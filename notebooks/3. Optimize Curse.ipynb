{
 "cells": [
  {
   "cell_type": "code",
   "execution_count": 1,
   "metadata": {},
   "outputs": [
    {
     "name": "stdout",
     "output_type": "stream",
     "text": [
      "Requirement already satisfied: recogym in /Users/d.mykhaylov/dev/src/reco-gym.github (0.1.3.0)\n",
      "Requirement already satisfied: absl-py in /Users/d.mykhaylov/anaconda3/envs/reco-gym/lib/python3.6/site-packages (from recogym) (0.8.0)\n",
      "Requirement already satisfied: pandas in /Users/d.mykhaylov/anaconda3/envs/reco-gym/lib/python3.6/site-packages (from recogym) (0.25.1)\n",
      "Requirement already satisfied: matplotlib in /Users/d.mykhaylov/anaconda3/envs/reco-gym/lib/python3.6/site-packages (from recogym) (3.1.1)\n",
      "Requirement already satisfied: simplegeneric in /Users/d.mykhaylov/anaconda3/envs/reco-gym/lib/python3.6/site-packages (from recogym) (0.8.1)\n",
      "Requirement already satisfied: gym in /Users/d.mykhaylov/anaconda3/envs/reco-gym/lib/python3.6/site-packages (from recogym) (0.14.0)\n",
      "Requirement already satisfied: torch in /Users/d.mykhaylov/anaconda3/envs/reco-gym/lib/python3.6/site-packages (from recogym) (1.2.0)\n",
      "Requirement already satisfied: tensorflow in /Users/d.mykhaylov/anaconda3/envs/reco-gym/lib/python3.6/site-packages (from recogym) (2.0.0)\n",
      "Requirement already satisfied: numba in /Users/d.mykhaylov/anaconda3/envs/reco-gym/lib/python3.6/site-packages (from recogym) (0.45.1)\n",
      "Requirement already satisfied: tqdm in /Users/d.mykhaylov/anaconda3/envs/reco-gym/lib/python3.6/site-packages (from recogym) (4.36.1)\n",
      "Requirement already satisfied: datetime in /Users/d.mykhaylov/anaconda3/envs/reco-gym/lib/python3.6/site-packages (from recogym) (4.3)\n",
      "Requirement already satisfied: jupyter in /Users/d.mykhaylov/anaconda3/envs/reco-gym/lib/python3.6/site-packages (from recogym) (1.0.0)\n",
      "Requirement already satisfied: scipy in /Users/d.mykhaylov/anaconda3/envs/reco-gym/lib/python3.6/site-packages (from recogym) (1.3.1)\n",
      "Requirement already satisfied: numpy in /Users/d.mykhaylov/anaconda3/envs/reco-gym/lib/python3.6/site-packages (from recogym) (1.17.4)\n",
      "Requirement already satisfied: scikit-learn in /Users/d.mykhaylov/anaconda3/envs/reco-gym/lib/python3.6/site-packages (from recogym) (0.21.3)\n",
      "Requirement already satisfied: six in /Users/d.mykhaylov/anaconda3/envs/reco-gym/lib/python3.6/site-packages (from absl-py->recogym) (1.12.0)\n",
      "Requirement already satisfied: python-dateutil>=2.6.1 in /Users/d.mykhaylov/anaconda3/envs/reco-gym/lib/python3.6/site-packages (from pandas->recogym) (2.8.0)\n",
      "Requirement already satisfied: pytz>=2017.2 in /Users/d.mykhaylov/anaconda3/envs/reco-gym/lib/python3.6/site-packages (from pandas->recogym) (2019.2)\n",
      "Requirement already satisfied: cycler>=0.10 in /Users/d.mykhaylov/anaconda3/envs/reco-gym/lib/python3.6/site-packages (from matplotlib->recogym) (0.10.0)\n",
      "Requirement already satisfied: pyparsing!=2.0.4,!=2.1.2,!=2.1.6,>=2.0.1 in /Users/d.mykhaylov/anaconda3/envs/reco-gym/lib/python3.6/site-packages (from matplotlib->recogym) (2.4.2)\n",
      "Requirement already satisfied: kiwisolver>=1.0.1 in /Users/d.mykhaylov/anaconda3/envs/reco-gym/lib/python3.6/site-packages (from matplotlib->recogym) (1.1.0)\n",
      "Requirement already satisfied: cloudpickle~=1.2.0 in /Users/d.mykhaylov/anaconda3/envs/reco-gym/lib/python3.6/site-packages (from gym->recogym) (1.2.2)\n",
      "Requirement already satisfied: pyglet<=1.3.2,>=1.2.0 in /Users/d.mykhaylov/anaconda3/envs/reco-gym/lib/python3.6/site-packages (from gym->recogym) (1.3.2)\n",
      "Requirement already satisfied: gast==0.2.2 in /Users/d.mykhaylov/anaconda3/envs/reco-gym/lib/python3.6/site-packages (from tensorflow->recogym) (0.2.2)\n",
      "Requirement already satisfied: tensorflow-estimator<2.1.0,>=2.0.0 in /Users/d.mykhaylov/anaconda3/envs/reco-gym/lib/python3.6/site-packages (from tensorflow->recogym) (2.0.0)\n",
      "Requirement already satisfied: wheel>=0.26 in /Users/d.mykhaylov/anaconda3/envs/reco-gym/lib/python3.6/site-packages (from tensorflow->recogym) (0.33.6)\n",
      "Requirement already satisfied: wrapt>=1.11.1 in /Users/d.mykhaylov/anaconda3/envs/reco-gym/lib/python3.6/site-packages (from tensorflow->recogym) (1.11.2)\n",
      "Requirement already satisfied: protobuf>=3.6.1 in /Users/d.mykhaylov/anaconda3/envs/reco-gym/lib/python3.6/site-packages (from tensorflow->recogym) (3.9.2)\n",
      "Requirement already satisfied: tensorboard<2.1.0,>=2.0.0 in /Users/d.mykhaylov/anaconda3/envs/reco-gym/lib/python3.6/site-packages (from tensorflow->recogym) (2.0.0)\n",
      "Requirement already satisfied: opt-einsum>=2.3.2 in /Users/d.mykhaylov/anaconda3/envs/reco-gym/lib/python3.6/site-packages (from tensorflow->recogym) (3.1.0)\n",
      "Requirement already satisfied: termcolor>=1.1.0 in /Users/d.mykhaylov/anaconda3/envs/reco-gym/lib/python3.6/site-packages (from tensorflow->recogym) (1.1.0)\n",
      "Requirement already satisfied: google-pasta>=0.1.6 in /Users/d.mykhaylov/anaconda3/envs/reco-gym/lib/python3.6/site-packages (from tensorflow->recogym) (0.1.7)\n",
      "Requirement already satisfied: keras-applications>=1.0.8 in /Users/d.mykhaylov/anaconda3/envs/reco-gym/lib/python3.6/site-packages (from tensorflow->recogym) (1.0.8)\n",
      "Requirement already satisfied: grpcio>=1.8.6 in /Users/d.mykhaylov/anaconda3/envs/reco-gym/lib/python3.6/site-packages (from tensorflow->recogym) (1.16.1)\n",
      "Requirement already satisfied: astor>=0.6.0 in /Users/d.mykhaylov/anaconda3/envs/reco-gym/lib/python3.6/site-packages (from tensorflow->recogym) (0.8.0)\n",
      "Requirement already satisfied: keras-preprocessing>=1.0.5 in /Users/d.mykhaylov/anaconda3/envs/reco-gym/lib/python3.6/site-packages (from tensorflow->recogym) (1.1.0)\n",
      "Requirement already satisfied: llvmlite>=0.29.0dev0 in /Users/d.mykhaylov/anaconda3/envs/reco-gym/lib/python3.6/site-packages (from numba->recogym) (0.29.0)\n",
      "Requirement already satisfied: zope.interface in /Users/d.mykhaylov/anaconda3/envs/reco-gym/lib/python3.6/site-packages (from datetime->recogym) (4.6.0)\n",
      "Requirement already satisfied: qtconsole in /Users/d.mykhaylov/anaconda3/envs/reco-gym/lib/python3.6/site-packages (from jupyter->recogym) (4.5.5)\n",
      "Requirement already satisfied: nbconvert in /Users/d.mykhaylov/anaconda3/envs/reco-gym/lib/python3.6/site-packages (from jupyter->recogym) (5.6.0)\n",
      "Requirement already satisfied: ipywidgets in /Users/d.mykhaylov/anaconda3/envs/reco-gym/lib/python3.6/site-packages (from jupyter->recogym) (7.5.1)\n",
      "Requirement already satisfied: ipykernel in /Users/d.mykhaylov/anaconda3/envs/reco-gym/lib/python3.6/site-packages (from jupyter->recogym) (5.1.2)\n",
      "Requirement already satisfied: notebook in /Users/d.mykhaylov/anaconda3/envs/reco-gym/lib/python3.6/site-packages (from jupyter->recogym) (6.0.1)\n",
      "Requirement already satisfied: jupyter-console in /Users/d.mykhaylov/anaconda3/envs/reco-gym/lib/python3.6/site-packages (from jupyter->recogym) (6.0.0)\n",
      "Requirement already satisfied: joblib>=0.11 in /Users/d.mykhaylov/anaconda3/envs/reco-gym/lib/python3.6/site-packages (from scikit-learn->recogym) (0.14.0)\n",
      "Requirement already satisfied: setuptools in /Users/d.mykhaylov/anaconda3/envs/reco-gym/lib/python3.6/site-packages (from kiwisolver>=1.0.1->matplotlib->recogym) (41.2.0)\n",
      "Requirement already satisfied: future in /Users/d.mykhaylov/anaconda3/envs/reco-gym/lib/python3.6/site-packages (from pyglet<=1.3.2,>=1.2.0->gym->recogym) (0.17.1)\n",
      "Requirement already satisfied: werkzeug>=0.11.15 in /Users/d.mykhaylov/anaconda3/envs/reco-gym/lib/python3.6/site-packages (from tensorboard<2.1.0,>=2.0.0->tensorflow->recogym) (0.16.0)\n",
      "Requirement already satisfied: markdown>=2.6.8 in /Users/d.mykhaylov/anaconda3/envs/reco-gym/lib/python3.6/site-packages (from tensorboard<2.1.0,>=2.0.0->tensorflow->recogym) (3.1.1)\n",
      "Requirement already satisfied: h5py in /Users/d.mykhaylov/anaconda3/envs/reco-gym/lib/python3.6/site-packages (from keras-applications>=1.0.8->tensorflow->recogym) (2.9.0)\n",
      "Requirement already satisfied: pygments in /Users/d.mykhaylov/anaconda3/envs/reco-gym/lib/python3.6/site-packages (from qtconsole->jupyter->recogym) (2.4.2)\n",
      "Requirement already satisfied: ipython-genutils in /Users/d.mykhaylov/anaconda3/envs/reco-gym/lib/python3.6/site-packages (from qtconsole->jupyter->recogym) (0.2.0)\n",
      "Requirement already satisfied: traitlets in /Users/d.mykhaylov/anaconda3/envs/reco-gym/lib/python3.6/site-packages (from qtconsole->jupyter->recogym) (4.3.3)\n",
      "Requirement already satisfied: jupyter-core in /Users/d.mykhaylov/anaconda3/envs/reco-gym/lib/python3.6/site-packages (from qtconsole->jupyter->recogym) (4.5.0)\n",
      "Requirement already satisfied: jupyter-client>=4.1 in /Users/d.mykhaylov/anaconda3/envs/reco-gym/lib/python3.6/site-packages (from qtconsole->jupyter->recogym) (5.3.3)\n",
      "Requirement already satisfied: mistune<2,>=0.8.1 in /Users/d.mykhaylov/anaconda3/envs/reco-gym/lib/python3.6/site-packages (from nbconvert->jupyter->recogym) (0.8.4)\n",
      "Requirement already satisfied: defusedxml in /Users/d.mykhaylov/anaconda3/envs/reco-gym/lib/python3.6/site-packages (from nbconvert->jupyter->recogym) (0.6.0)\n",
      "Requirement already satisfied: nbformat>=4.4 in /Users/d.mykhaylov/anaconda3/envs/reco-gym/lib/python3.6/site-packages (from nbconvert->jupyter->recogym) (4.4.0)\n",
      "Requirement already satisfied: jinja2>=2.4 in /Users/d.mykhaylov/anaconda3/envs/reco-gym/lib/python3.6/site-packages (from nbconvert->jupyter->recogym) (2.10.3)\n"
     ]
    },
    {
     "name": "stdout",
     "output_type": "stream",
     "text": [
      "Requirement already satisfied: entrypoints>=0.2.2 in /Users/d.mykhaylov/anaconda3/envs/reco-gym/lib/python3.6/site-packages (from nbconvert->jupyter->recogym) (0.3)\n",
      "Requirement already satisfied: bleach in /Users/d.mykhaylov/anaconda3/envs/reco-gym/lib/python3.6/site-packages (from nbconvert->jupyter->recogym) (3.1.0)\n",
      "Requirement already satisfied: pandocfilters>=1.4.1 in /Users/d.mykhaylov/anaconda3/envs/reco-gym/lib/python3.6/site-packages (from nbconvert->jupyter->recogym) (1.4.2)\n",
      "Requirement already satisfied: testpath in /Users/d.mykhaylov/anaconda3/envs/reco-gym/lib/python3.6/site-packages (from nbconvert->jupyter->recogym) (0.4.2)\n",
      "Requirement already satisfied: widgetsnbextension~=3.5.0 in /Users/d.mykhaylov/anaconda3/envs/reco-gym/lib/python3.6/site-packages (from ipywidgets->jupyter->recogym) (3.5.1)\n",
      "Requirement already satisfied: ipython>=4.0.0; python_version >= \"3.3\" in /Users/d.mykhaylov/anaconda3/envs/reco-gym/lib/python3.6/site-packages (from ipywidgets->jupyter->recogym) (7.8.0)\n",
      "Requirement already satisfied: tornado>=4.2 in /Users/d.mykhaylov/anaconda3/envs/reco-gym/lib/python3.6/site-packages (from ipykernel->jupyter->recogym) (6.0.3)\n",
      "Requirement already satisfied: Send2Trash in /Users/d.mykhaylov/anaconda3/envs/reco-gym/lib/python3.6/site-packages (from notebook->jupyter->recogym) (1.5.0)\n",
      "Requirement already satisfied: terminado>=0.8.1 in /Users/d.mykhaylov/anaconda3/envs/reco-gym/lib/python3.6/site-packages (from notebook->jupyter->recogym) (0.8.2)\n",
      "Requirement already satisfied: pyzmq>=17 in /Users/d.mykhaylov/anaconda3/envs/reco-gym/lib/python3.6/site-packages (from notebook->jupyter->recogym) (18.1.0)\n",
      "Requirement already satisfied: prometheus-client in /Users/d.mykhaylov/anaconda3/envs/reco-gym/lib/python3.6/site-packages (from notebook->jupyter->recogym) (0.7.1)\n",
      "Requirement already satisfied: prompt-toolkit<2.1.0,>=2.0.0 in /Users/d.mykhaylov/anaconda3/envs/reco-gym/lib/python3.6/site-packages (from jupyter-console->jupyter->recogym) (2.0.10)\n",
      "Requirement already satisfied: decorator in /Users/d.mykhaylov/anaconda3/envs/reco-gym/lib/python3.6/site-packages (from traitlets->qtconsole->jupyter->recogym) (4.4.0)\n",
      "Requirement already satisfied: jsonschema!=2.5.0,>=2.4 in /Users/d.mykhaylov/anaconda3/envs/reco-gym/lib/python3.6/site-packages (from nbformat>=4.4->nbconvert->jupyter->recogym) (3.0.2)\n",
      "Requirement already satisfied: MarkupSafe>=0.23 in /Users/d.mykhaylov/anaconda3/envs/reco-gym/lib/python3.6/site-packages (from jinja2>=2.4->nbconvert->jupyter->recogym) (1.1.1)\n",
      "Requirement already satisfied: webencodings in /Users/d.mykhaylov/anaconda3/envs/reco-gym/lib/python3.6/site-packages (from bleach->nbconvert->jupyter->recogym) (0.5.1)\n",
      "Requirement already satisfied: pickleshare in /Users/d.mykhaylov/anaconda3/envs/reco-gym/lib/python3.6/site-packages (from ipython>=4.0.0; python_version >= \"3.3\"->ipywidgets->jupyter->recogym) (0.7.5)\n",
      "Requirement already satisfied: pexpect; sys_platform != \"win32\" in /Users/d.mykhaylov/anaconda3/envs/reco-gym/lib/python3.6/site-packages (from ipython>=4.0.0; python_version >= \"3.3\"->ipywidgets->jupyter->recogym) (4.7.0)\n",
      "Requirement already satisfied: backcall in /Users/d.mykhaylov/anaconda3/envs/reco-gym/lib/python3.6/site-packages (from ipython>=4.0.0; python_version >= \"3.3\"->ipywidgets->jupyter->recogym) (0.1.0)\n",
      "Requirement already satisfied: appnope; sys_platform == \"darwin\" in /Users/d.mykhaylov/anaconda3/envs/reco-gym/lib/python3.6/site-packages (from ipython>=4.0.0; python_version >= \"3.3\"->ipywidgets->jupyter->recogym) (0.1.0)\n",
      "Requirement already satisfied: jedi>=0.10 in /Users/d.mykhaylov/anaconda3/envs/reco-gym/lib/python3.6/site-packages (from ipython>=4.0.0; python_version >= \"3.3\"->ipywidgets->jupyter->recogym) (0.15.1)\n",
      "Requirement already satisfied: ptyprocess; os_name != \"nt\" in /Users/d.mykhaylov/anaconda3/envs/reco-gym/lib/python3.6/site-packages (from terminado>=0.8.1->notebook->jupyter->recogym) (0.6.0)\n",
      "Requirement already satisfied: wcwidth in /Users/d.mykhaylov/anaconda3/envs/reco-gym/lib/python3.6/site-packages (from prompt-toolkit<2.1.0,>=2.0.0->jupyter-console->jupyter->recogym) (0.1.7)\n",
      "Requirement already satisfied: attrs>=17.4.0 in /Users/d.mykhaylov/anaconda3/envs/reco-gym/lib/python3.6/site-packages (from jsonschema!=2.5.0,>=2.4->nbformat>=4.4->nbconvert->jupyter->recogym) (19.2.0)\n",
      "Requirement already satisfied: pyrsistent>=0.14.0 in /Users/d.mykhaylov/anaconda3/envs/reco-gym/lib/python3.6/site-packages (from jsonschema!=2.5.0,>=2.4->nbformat>=4.4->nbconvert->jupyter->recogym) (0.15.4)\n",
      "Requirement already satisfied: parso>=0.5.0 in /Users/d.mykhaylov/anaconda3/envs/reco-gym/lib/python3.6/site-packages (from jedi>=0.10->ipython>=4.0.0; python_version >= \"3.3\"->ipywidgets->jupyter->recogym) (0.5.1)\n",
      "Requirement already satisfied: seaborn in /Users/d.mykhaylov/anaconda3/envs/reco-gym/lib/python3.6/site-packages (0.9.0)\n",
      "Requirement already satisfied: numpy>=1.9.3 in /Users/d.mykhaylov/anaconda3/envs/reco-gym/lib/python3.6/site-packages (from seaborn) (1.17.4)\n",
      "Requirement already satisfied: scipy>=0.14.0 in /Users/d.mykhaylov/anaconda3/envs/reco-gym/lib/python3.6/site-packages (from seaborn) (1.3.1)\n",
      "Requirement already satisfied: pandas>=0.15.2 in /Users/d.mykhaylov/anaconda3/envs/reco-gym/lib/python3.6/site-packages (from seaborn) (0.25.1)\n",
      "Requirement already satisfied: matplotlib>=1.4.3 in /Users/d.mykhaylov/anaconda3/envs/reco-gym/lib/python3.6/site-packages (from seaborn) (3.1.1)\n",
      "Requirement already satisfied: pytz>=2017.2 in /Users/d.mykhaylov/anaconda3/envs/reco-gym/lib/python3.6/site-packages (from pandas>=0.15.2->seaborn) (2019.2)\n",
      "Requirement already satisfied: python-dateutil>=2.6.1 in /Users/d.mykhaylov/anaconda3/envs/reco-gym/lib/python3.6/site-packages (from pandas>=0.15.2->seaborn) (2.8.0)\n",
      "Requirement already satisfied: pyparsing!=2.0.4,!=2.1.2,!=2.1.6,>=2.0.1 in /Users/d.mykhaylov/anaconda3/envs/reco-gym/lib/python3.6/site-packages (from matplotlib>=1.4.3->seaborn) (2.4.2)\n",
      "Requirement already satisfied: kiwisolver>=1.0.1 in /Users/d.mykhaylov/anaconda3/envs/reco-gym/lib/python3.6/site-packages (from matplotlib>=1.4.3->seaborn) (1.1.0)\n",
      "Requirement already satisfied: cycler>=0.10 in /Users/d.mykhaylov/anaconda3/envs/reco-gym/lib/python3.6/site-packages (from matplotlib>=1.4.3->seaborn) (0.10.0)\n",
      "Requirement already satisfied: six>=1.5 in /Users/d.mykhaylov/anaconda3/envs/reco-gym/lib/python3.6/site-packages (from python-dateutil>=2.6.1->pandas>=0.15.2->seaborn) (1.12.0)\n",
      "Requirement already satisfied: setuptools in /Users/d.mykhaylov/anaconda3/envs/reco-gym/lib/python3.6/site-packages (from kiwisolver>=1.0.1->matplotlib>=1.4.3->seaborn) (41.2.0)\n"
     ]
    }
   ],
   "source": [
    "!pip install recogym\n",
    "!pip install seaborn"
   ]
  },
  {
   "cell_type": "markdown",
   "metadata": {},
   "source": [
    "# Optimizer's curse\n",
    "\n",
    "We will use the same likelihood model built in the previous notebook to showcase the optimizer's curse and how that can even lead to an inversion of arms (making a wrong decision).\n",
    "\n",
    "Let's first setup, as usual, the environment."
   ]
  },
  {
   "cell_type": "code",
   "execution_count": 2,
   "metadata": {},
   "outputs": [],
   "source": [
    "from recogym.envs.session import OrganicSessions\n",
    "\n",
    "from numpy.random.mtrand import RandomState\n",
    "from recogym import Configuration\n",
    "from recogym.agents import Agent\n",
    "from sklearn.linear_model import LogisticRegression\n",
    "from recogym import verify_agents\n",
    "from recogym.agents import OrganicUserEventCounterAgent, organic_user_count_args\n",
    "from recogym.evaluate_agent import verify_agents, plot_verify_agents\n",
    "\n",
    "import gym, recogym\n",
    "from copy import deepcopy\n",
    "from recogym import env_1_args\n",
    "import matplotlib.pyplot as plt\n",
    "import numpy as np\n",
    "import pandas as pd\n",
    "\n",
    "%matplotlib inline\n",
    "\n",
    "%config InlineBackend.figure_format = 'retina'\n",
    "plt.rcParams['figure.figsize'] = [6, 3]\n",
    "\n",
    "num_users = 5000\n",
    "num_products = 10\n",
    "\n",
    "env_1_args['random_seed'] = 42\n",
    "env_1_args['num_products'] = num_products\n",
    "\n",
    "env = gym.make('reco-gym-v1')\n",
    "env.init_gym(env_1_args)"
   ]
  },
  {
   "cell_type": "markdown",
   "metadata": {},
   "source": [
    "We will use a logging policy that shows products with a probability proportional to their popularity (very plausible world model)."
   ]
  },
  {
   "cell_type": "code",
   "execution_count": 3,
   "metadata": {},
   "outputs": [
    {
     "name": "stderr",
     "output_type": "stream",
     "text": [
      "Organic Users: 0it [00:00, ?it/s]\n",
      "Users: 100%|██████████| 1000/1000 [00:27<00:00, 36.55it/s]\n"
     ]
    }
   ],
   "source": [
    "NUM_USERS = 1000\n",
    "NUM_PRODUCTS = 10\n",
    "\n",
    "organic_counter_agent = OrganicUserEventCounterAgent(Configuration({\n",
    "           **organic_user_count_args,\n",
    "           **env_1_args,\n",
    "           'select_randomly': True,\n",
    "       }))\n",
    "\n",
    "popularity_policy_logs = env.generate_logs(NUM_USERS, organic_counter_agent)"
   ]
  },
  {
   "cell_type": "markdown",
   "metadata": {},
   "source": [
    "Again we use our product views feature provider."
   ]
  },
  {
   "cell_type": "code",
   "execution_count": 4,
   "metadata": {},
   "outputs": [],
   "source": [
    "from recogym.agents import FeatureProvider\n",
    "\n",
    "class CountFeatureProvider(FeatureProvider):\n",
    "    \"\"\"Feature provider as an abstract class that defined interface of setting/getting features\"\"\"\n",
    "\n",
    "    def __init__(self, config):\n",
    "        super(CountFeatureProvider, self).__init__(config)\n",
    "        self.feature_data = np.zeros((self.config.num_products))\n",
    "\n",
    "    def observe(self, observation):\n",
    "        \"\"\"Consider an Organic Event for a particular user\"\"\"\n",
    "        for session in observation.sessions():\n",
    "            self.feature_data[int(session['v'])] += 1\n",
    "\n",
    "    def features(self, observation):\n",
    "        \"\"\"Provide feature values adjusted to a particular feature set\"\"\"\n",
    "        return self.feature_data\n",
    "\n",
    "    def reset(self):\n",
    "        self.feature_data = np.zeros((self.config.num_products))"
   ]
  },
  {
   "cell_type": "code",
   "execution_count": 5,
   "metadata": {},
   "outputs": [],
   "source": [
    "import math\n",
    "import numpy as np\n",
    "from recogym import Configuration, DefaultContext, Observation\n",
    "\n",
    "\n",
    "def build_train_data(logs, feature_provider):\n",
    "    user_states, actions, rewards, proba_actions = [], [], [], []\n",
    "\n",
    "    current_user = None\n",
    "    for _, row in logs.iterrows():\n",
    "        if current_user != row['u']:\n",
    "            # Use has changed: start a new session and reset user state\n",
    "            current_user = row['u']\n",
    "            sessions = OrganicSessions()\n",
    "            feature_provider.reset()\n",
    "\n",
    "        context = DefaultContext(row['u'], row['t'])\n",
    "\n",
    "        if row['z'] == 'organic':\n",
    "            sessions.next(context, row['v'])\n",
    "\n",
    "        else:\n",
    "            # For each bandit event, generate one observation for the user state,\n",
    "            # the taken action the obtained reward and the used probabilities\n",
    "            feature_provider.observe(Observation(context, sessions))\n",
    "            user_states.append(feature_provider.features(None))\n",
    "            actions.append(row['a'])\n",
    "            rewards.append(row['c'])\n",
    "            proba_actions.append(row['ps'])\n",
    "\n",
    "            # Start a new organic session\n",
    "            sessions = OrganicSessions()\n",
    "\n",
    "    return np.array(user_states), np.array(actions).astype(int), np.array(rewards), np.array(proba_actions)"
   ]
  },
  {
   "cell_type": "code",
   "execution_count": 6,
   "metadata": {},
   "outputs": [],
   "source": [
    "# You can now see data that will be provided to our agents based on logistic regressions.\n",
    "config = Configuration(env_1_args)\n",
    "count_feature_provider = CountFeatureProvider(config=config)\n",
    "\n",
    "user_states, actions, rewards, proba_actions = build_train_data(popularity_policy_logs, count_feature_provider)"
   ]
  },
  {
   "cell_type": "code",
   "execution_count": 7,
   "metadata": {},
   "outputs": [
    {
     "name": "stdout",
     "output_type": "stream",
     "text": [
      "user product views count at action time\n",
      "[[ 7.  1.  0.  1.  5. 14.  0.  0.  0.  0.]\n",
      " [ 7.  1.  0.  1.  5. 14.  0.  0.  0.  0.]\n",
      " [ 7.  1.  0.  1.  5. 14.  0.  0.  0.  0.]]\n",
      "taken actions [5 5 5]\n",
      "obtained rewards [0. 0. 0.]\n",
      "probablities of the taken actions [0.71428571 0.71428571 0.71428571]\n"
     ]
    }
   ],
   "source": [
    "preview_start, preview_size = 500, 3\n",
    "\n",
    "print('user product views count at action time')\n",
    "print(user_states[preview_start:preview_start + preview_size])\n",
    "print('taken actions', actions[preview_start:preview_start + preview_size])\n",
    "print('obtained rewards', rewards[preview_start:preview_start + preview_size])\n",
    "print('probablities of the taken actions', proba_actions[preview_start:preview_start + preview_size])"
   ]
  },
  {
   "cell_type": "code",
   "execution_count": 8,
   "metadata": {},
   "outputs": [],
   "source": [
    "class LikelihoodAgent(Agent):\n",
    "    def __init__(self, feature_provider, use_argmax=False, seed=43):\n",
    "        self.feature_provider = feature_provider\n",
    "        self.use_argmax = use_argmax\n",
    "        self.random_state = RandomState(seed)\n",
    "        self.model = None\n",
    "        \n",
    "    @property\n",
    "    def num_products(self):\n",
    "        return self.feature_provider.config.num_products\n",
    "    \n",
    "    def _create_features(self, user_state, action):\n",
    "        \"\"\"Create the features that are used to estimate the expected reward from the user state\"\"\"\n",
    "        features = np.zeros(len(user_state) * self.num_products)\n",
    "        features[action * len(user_state): (action + 1) * len(user_state)] = user_state\n",
    "        \n",
    "        return features\n",
    "    \n",
    "    def train(self, logs):\n",
    "        user_states, actions, rewards, proba_actions = build_train_data(logs, self.feature_provider)\n",
    "        \n",
    "        features = np.vstack([\n",
    "            self._create_features(user_state, action) \n",
    "            for user_state, action in zip(user_states, actions)\n",
    "        ])\n",
    "        self.model = LogisticRegression(solver='lbfgs', max_iter=5000)\n",
    "        self.model.fit(features, rewards)\n",
    "    \n",
    "    def _score_products(self, user_state):\n",
    "        all_action_features = np.array([\n",
    "            self._create_features(user_state, action) \n",
    "            for action in range(self.num_products)\n",
    "        ])\n",
    "        return self.model.predict_proba(all_action_features)[:, 1]\n",
    "        \n",
    "    def act(self, observation, reward, done):\n",
    "        \"\"\"Act method returns an action based on current observation and past history\"\"\"\n",
    "        self.feature_provider.observe(observation)        \n",
    "        user_state = self.feature_provider.features(observation)\n",
    "        prob = self._score_products(user_state)\n",
    "        \n",
    "        if not self.use_argmax:\n",
    "            action = self.random_state.choice(self.num_products, p=(prob / np.sum(prob)))\n",
    "            ps = prob[action]\n",
    "            all_ps = prob.copy()\n",
    "        else:\n",
    "            action = np.argmax(prob)\n",
    "            ps = 1.0\n",
    "            all_ps = np.zeros(self.num_products)\n",
    "            all_ps[action] = 1.0\n",
    "      \n",
    "        return {\n",
    "            **super().act(observation, reward, done),\n",
    "            **{\n",
    "                'a': action,\n",
    "                'expected-value': prob[action],\n",
    "                'ps': ps,\n",
    "                'ps-a': all_ps,\n",
    "            }\n",
    "        }\n",
    "\n",
    "    def reset(self):\n",
    "        self.feature_provider.reset()  "
   ]
  },
  {
   "cell_type": "code",
   "execution_count": 9,
   "metadata": {},
   "outputs": [],
   "source": [
    "def run_agent(env, num_users, agent):\n",
    "    \"\"\"Small utility function to collect stats about your agent on simulated test traffic\n",
    "    It is really recogym specific, you do not need to look at its internal details\n",
    "    \"\"\"\n",
    "    env = deepcopy(env)\n",
    "    env.agent = agent  \n",
    "    \n",
    "    events = []\n",
    "    for user_id in range(num_users):\n",
    "        env.reset(user_id)\n",
    "        observation, reward, done, _ = env.step(None)\n",
    "\n",
    "        while not done:\n",
    "            for session in observation.sessions():\n",
    "                events += [{**session, 'z': 'organic'}]\n",
    "\n",
    "            action, observation, reward, done, info = env.step_offline(observation, reward, done)\n",
    "            events += [{**action, 'z': 'bandit', 'c': reward}]\n",
    "\n",
    "            if done:\n",
    "                break\n",
    "\n",
    "    events_df = pd.DataFrame().from_dict(events)\n",
    "    ordered_cols = ['t', 'u', 'z', 'v', 'a', 'c', 'ps', 'ps-a']\n",
    "    all_cols = ordered_cols + [col for col in events_df.columns if col not in ordered_cols]\n",
    "    return events_df[all_cols]"
   ]
  },
  {
   "cell_type": "code",
   "execution_count": 14,
   "metadata": {},
   "outputs": [
    {
     "name": "stdout",
     "output_type": "stream",
     "text": [
      "User state:  [ 7.  1.  0.  1.  5. 14.  0.  0.  0.  0.]\n",
      "Action:  5\n",
      "Created cross features: \n",
      "[ 0.  0.  0.  0.  0.  0.  0.  0.  0.  0.  0.  0.  0.  0.  0.  0.  0.  0.\n",
      "  0.  0.  0.  0.  0.  0.  0.  0.  0.  0.  0.  0.  0.  0.  0.  0.  0.  0.\n",
      "  0.  0.  0.  0.  0.  0.  0.  0.  0.  0.  0.  0.  0.  0.  7.  1.  0.  1.\n",
      "  5. 14.  0.  0.  0.  0.  0.  0.  0.  0.  0.  0.  0.  0.  0.  0.  0.  0.\n",
      "  0.  0.  0.  0.  0.  0.  0.  0.  0.  0.  0.  0.  0.  0.  0.  0.  0.  0.\n",
      "  0.  0.  0.  0.  0.  0.  0.  0.  0.  0.]\n"
     ]
    }
   ],
   "source": [
    "# Have a look at the feature vector used by the Likelihood agent.\n",
    "picked_sample = 500\n",
    "\n",
    "count_product_views_feature_provider = CountFeatureProvider(config)\n",
    "likelihood_logreg = LikelihoodAgent(count_product_views_feature_provider)\n",
    "\n",
    "print('User state: ', user_states[picked_sample])\n",
    "print('Action: ', actions[picked_sample])\n",
    "print('Created cross features: ')\n",
    "print(likelihood_logreg._create_features(user_states[picked_sample], actions[picked_sample]))"
   ]
  },
  {
   "cell_type": "code",
   "execution_count": 11,
   "metadata": {},
   "outputs": [
    {
     "name": "stdout",
     "output_type": "stream",
     "text": [
      "CPU times: user 38.5 s, sys: 852 ms, total: 39.4 s\n",
      "Wall time: 32 s\n"
     ]
    }
   ],
   "source": [
    "%%time\n",
    "\n",
    "likelihood_logreg = LikelihoodAgent(count_product_views_feature_provider, use_argmax=True)\n",
    "likelihood_logreg.train(popularity_policy_logs)"
   ]
  },
  {
   "cell_type": "code",
   "execution_count": 12,
   "metadata": {},
   "outputs": [],
   "source": [
    "n_test_users = 1000\n",
    "likelihood_logreg_test_logs = run_agent(env, n_test_users, likelihood_logreg)"
   ]
  },
  {
   "cell_type": "markdown",
   "metadata": {},
   "source": [
    "## Looking at the predicted number of clicks vs. the actual number\n",
    "\n",
    "We can see that the model over-predicted the number of clicks, and even inversed the order of products 3 and 4."
   ]
  },
  {
   "cell_type": "code",
   "execution_count": 13,
   "metadata": {},
   "outputs": [
    {
     "data": {
      "text/plain": [
       "Text(0.5, 0, 'Selected product')"
      ]
     },
     "execution_count": 13,
     "metadata": {},
     "output_type": "execute_result"
    },
    {
     "data": {
      "image/png": "[encoded data removed]",
      "text/plain": [
       "<Figure size 1080x288 with 2 Axes>"
      ]
     },
     "metadata": {
      "image/png": {
       "height": 277,
       "width": 897
      },
      "needs_background": "light"
     },
     "output_type": "display_data"
    }
   ],
   "source": [
    "import seaborn as sns\n",
    "\n",
    "# To force the arms to share the same colors\n",
    "palette = {c: f'C{c}' for c in range(NUM_PRODUCTS)} if NUM_PRODUCTS < 20 else None\n",
    "\n",
    "fig, axes = plt.subplots(1, 2, figsize=(15, 4), sharey=True)\n",
    "sns.barplot(x=\"a\", y=\"expected-value\", data=likelihood_logreg_test_logs, ax=axes[0], estimator=sum, palette=palette)\n",
    "axes[0].set_title('Expected number of clicks')\n",
    "axes[0].set_xlabel('Selected product')\n",
    "\n",
    "sns.barplot(x=\"a\", y=\"c\", data=likelihood_logreg_test_logs, ax=axes[1], estimator=sum, palette=palette)\n",
    "axes[1].set_title('Obtained number of clicks')\n",
    "axes[1].set_xlabel('Selected product')"
   ]
  }
 ],
 "metadata": {
  "kernelspec": {
   "display_name": "Python 3",
   "language": "python",
   "name": "python3"
  },
  "language_info": {
   "codemirror_mode": {
    "name": "ipython",
    "version": 3
   },
   "file_extension": ".py",
   "mimetype": "text/x-python",
   "name": "python",
   "nbconvert_exporter": "python",
   "pygments_lexer": "ipython3",
   "version": "3.6.9"
  }
 },
 "nbformat": 4,
 "nbformat_minor": 2
}
