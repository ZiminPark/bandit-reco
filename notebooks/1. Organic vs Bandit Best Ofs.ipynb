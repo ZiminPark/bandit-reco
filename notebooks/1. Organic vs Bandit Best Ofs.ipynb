{
  "nbformat": 4,
  "nbformat_minor": 0,
  "metadata": {
    "kernelspec": {
      "display_name": "Python 3",
      "language": "python",
      "name": "python3"
    },
    "language_info": {
      "codemirror_mode": {
        "name": "ipython",
        "version": 3
      },
      "file_extension": ".py",
      "mimetype": "text/x-python",
      "name": "python",
      "nbconvert_exporter": "python",
      "pygments_lexer": "ipython3",
      "version": "3.6.9"
    },
    "colab": {
      "name": "1. Organic vs Bandit Best Ofs.ipynb",
      "provenance": [],
      "include_colab_link": true
    }
  },
  "cells": [
    {
      "cell_type": "markdown",
      "metadata": {
        "id": "view-in-github",
        "colab_type": "text"
      },
      "source": [
        "<a href=\"https://colab.research.google.com/github/ZiminPark/bandit-reco/blob/master/notebooks/1.%20Organic%20vs%20Bandit%20Best%20Ofs.ipynb\" target=\"_parent\"><img src=\"https://colab.research.google.com/assets/colab-badge.svg\" alt=\"Open In Colab\"/></a>"
      ]
    },
    {
      "cell_type": "code",
      "metadata": {
        "colab": {
          "base_uri": "https://localhost:8080/"
        },
        "id": "4HuKhicvcsSR",
        "outputId": "2c222897-88ca-4886-d5bb-822e9e8d7393"
      },
      "source": [
        "# If recogym is not yet installed in your environment, run:\n",
        "!pip install recogym"
      ],
      "execution_count": 1,
      "outputs": [
        {
          "output_type": "stream",
          "text": [
            "Installing collected packages: zope.interface, datetime, recogym\n",
            "Successfully installed datetime-4.3 recogym-0.1.3.0 zope.interface-5.2.0\n"
          ],
          "name": "stdout"
        }
      ]
    },
    {
      "cell_type": "markdown",
      "metadata": {
        "id": "433AGnrPcsSV"
      },
      "source": [
        "## Bandit Feedback - Organic Best of vs. Bandit Best of\n",
        "\n",
        "- 이번 노트북에서 bandit signal(how users react to ads)을 활용해 보자.\n",
        "- popular organic product과 popular organic product를 비교할 것이다.\n",
        "- 차이를 확인해 보자."
      ]
    },
    {
      "cell_type": "code",
      "metadata": {
        "id": "zod5O5bvcsSW"
      },
      "source": [
        "import gym, recogym\n",
        "from recogym import env_1_args, Configuration\n",
        "import matplotlib.pyplot as plt\n",
        "import seaborn as sns\n",
        "import numpy as np\n",
        "\n",
        "%matplotlib inline\n",
        "\n",
        "plt.rcParams['figure.figsize'] = [6, 3]\n",
        "\n",
        "num_users = 1000\n",
        "num_products = 10\n",
        "\n",
        "env_1_args['sigma_mu_organic'] = 2\n",
        "env_1_args['sigma_omega'] = 2.\n",
        "env_1_args['random_seed'] = 42\n",
        "env_1_args['num_products'] = num_products\n",
        "env_1_args['K'] = 2\n",
        "env_1_args['number_of_flips'] = 2\n",
        "env = gym.make('reco-gym-v1')\n",
        "env.init_gym(env_1_args)"
      ],
      "execution_count": 2,
      "outputs": []
    },
    {
      "cell_type": "code",
      "metadata": {
        "colab": {
          "base_uri": "https://localhost:8080/"
        },
        "id": "YYCrZJwGcsSW",
        "outputId": "31ee9dcc-5fc1-4930-fd0b-5d0418e6c1ac"
      },
      "source": [
        "# We can generate data for many user at once with env.generate_logs\n",
        "data = env.generate_logs(num_users)"
      ],
      "execution_count": 3,
      "outputs": [
        {
          "output_type": "stream",
          "text": [
            "Organic Users: 0it [00:00, ?it/s]\n",
            "Users: 100%|██████████| 1000/1000 [00:26<00:00, 38.16it/s]\n"
          ],
          "name": "stderr"
        }
      ]
    },
    {
      "cell_type": "code",
      "metadata": {
        "colab": {
          "base_uri": "https://localhost:8080/",
          "height": 359
        },
        "id": "4K8bDRZFcsSW",
        "outputId": "1489224a-fab4-41b5-c62f-e1a902719d5e"
      },
      "source": [
        "data[:10]"
      ],
      "execution_count": 7,
      "outputs": [
        {
          "output_type": "execute_result",
          "data": {
            "text/html": [
              "<div>\n",
              "<style scoped>\n",
              "    .dataframe tbody tr th:only-of-type {\n",
              "        vertical-align: middle;\n",
              "    }\n",
              "\n",
              "    .dataframe tbody tr th {\n",
              "        vertical-align: top;\n",
              "    }\n",
              "\n",
              "    .dataframe thead th {\n",
              "        text-align: right;\n",
              "    }\n",
              "</style>\n",
              "<table border=\"1\" class=\"dataframe\">\n",
              "  <thead>\n",
              "    <tr style=\"text-align: right;\">\n",
              "      <th></th>\n",
              "      <th>t</th>\n",
              "      <th>u</th>\n",
              "      <th>z</th>\n",
              "      <th>v</th>\n",
              "      <th>a</th>\n",
              "      <th>c</th>\n",
              "      <th>ps</th>\n",
              "      <th>ps-a</th>\n",
              "    </tr>\n",
              "  </thead>\n",
              "  <tbody>\n",
              "    <tr>\n",
              "      <th>0</th>\n",
              "      <td>0.0</td>\n",
              "      <td>0</td>\n",
              "      <td>organic</td>\n",
              "      <td>0</td>\n",
              "      <td>&lt;NA&gt;</td>\n",
              "      <td>NaN</td>\n",
              "      <td>NaN</td>\n",
              "      <td>None</td>\n",
              "    </tr>\n",
              "    <tr>\n",
              "      <th>1</th>\n",
              "      <td>1.0</td>\n",
              "      <td>0</td>\n",
              "      <td>organic</td>\n",
              "      <td>0</td>\n",
              "      <td>&lt;NA&gt;</td>\n",
              "      <td>NaN</td>\n",
              "      <td>NaN</td>\n",
              "      <td>None</td>\n",
              "    </tr>\n",
              "    <tr>\n",
              "      <th>2</th>\n",
              "      <td>2.0</td>\n",
              "      <td>0</td>\n",
              "      <td>bandit</td>\n",
              "      <td>&lt;NA&gt;</td>\n",
              "      <td>3</td>\n",
              "      <td>0.0</td>\n",
              "      <td>0.1</td>\n",
              "      <td>()</td>\n",
              "    </tr>\n",
              "    <tr>\n",
              "      <th>3</th>\n",
              "      <td>3.0</td>\n",
              "      <td>0</td>\n",
              "      <td>bandit</td>\n",
              "      <td>&lt;NA&gt;</td>\n",
              "      <td>4</td>\n",
              "      <td>0.0</td>\n",
              "      <td>0.1</td>\n",
              "      <td>()</td>\n",
              "    </tr>\n",
              "    <tr>\n",
              "      <th>4</th>\n",
              "      <td>4.0</td>\n",
              "      <td>0</td>\n",
              "      <td>bandit</td>\n",
              "      <td>&lt;NA&gt;</td>\n",
              "      <td>5</td>\n",
              "      <td>0.0</td>\n",
              "      <td>0.1</td>\n",
              "      <td>()</td>\n",
              "    </tr>\n",
              "    <tr>\n",
              "      <th>5</th>\n",
              "      <td>5.0</td>\n",
              "      <td>0</td>\n",
              "      <td>bandit</td>\n",
              "      <td>&lt;NA&gt;</td>\n",
              "      <td>0</td>\n",
              "      <td>0.0</td>\n",
              "      <td>0.1</td>\n",
              "      <td>()</td>\n",
              "    </tr>\n",
              "    <tr>\n",
              "      <th>6</th>\n",
              "      <td>0.0</td>\n",
              "      <td>1</td>\n",
              "      <td>organic</td>\n",
              "      <td>0</td>\n",
              "      <td>&lt;NA&gt;</td>\n",
              "      <td>NaN</td>\n",
              "      <td>NaN</td>\n",
              "      <td>None</td>\n",
              "    </tr>\n",
              "    <tr>\n",
              "      <th>7</th>\n",
              "      <td>1.0</td>\n",
              "      <td>1</td>\n",
              "      <td>organic</td>\n",
              "      <td>7</td>\n",
              "      <td>&lt;NA&gt;</td>\n",
              "      <td>NaN</td>\n",
              "      <td>NaN</td>\n",
              "      <td>None</td>\n",
              "    </tr>\n",
              "    <tr>\n",
              "      <th>8</th>\n",
              "      <td>2.0</td>\n",
              "      <td>1</td>\n",
              "      <td>organic</td>\n",
              "      <td>0</td>\n",
              "      <td>&lt;NA&gt;</td>\n",
              "      <td>NaN</td>\n",
              "      <td>NaN</td>\n",
              "      <td>None</td>\n",
              "    </tr>\n",
              "    <tr>\n",
              "      <th>9</th>\n",
              "      <td>3.0</td>\n",
              "      <td>1</td>\n",
              "      <td>organic</td>\n",
              "      <td>0</td>\n",
              "      <td>&lt;NA&gt;</td>\n",
              "      <td>NaN</td>\n",
              "      <td>NaN</td>\n",
              "      <td>None</td>\n",
              "    </tr>\n",
              "  </tbody>\n",
              "</table>\n",
              "</div>"
            ],
            "text/plain": [
              "     t  u        z     v     a    c   ps  ps-a\n",
              "0  0.0  0  organic     0  <NA>  NaN  NaN  None\n",
              "1  1.0  0  organic     0  <NA>  NaN  NaN  None\n",
              "2  2.0  0   bandit  <NA>     3  0.0  0.1    ()\n",
              "3  3.0  0   bandit  <NA>     4  0.0  0.1    ()\n",
              "4  4.0  0   bandit  <NA>     5  0.0  0.1    ()\n",
              "5  5.0  0   bandit  <NA>     0  0.0  0.1    ()\n",
              "6  0.0  1  organic     0  <NA>  NaN  NaN  None\n",
              "7  1.0  1  organic     7  <NA>  NaN  NaN  None\n",
              "8  2.0  1  organic     0  <NA>  NaN  NaN  None\n",
              "9  3.0  1  organic     0  <NA>  NaN  NaN  None"
            ]
          },
          "metadata": {
            "tags": []
          },
          "execution_count": 7
        }
      ]
    },
    {
      "cell_type": "markdown",
      "metadata": {
        "id": "WQBc6Yr8csSW"
      },
      "source": [
        "Here is the data the following columns are present:\n",
        "* **`t`**—_`Time`_. Currently, _`Time`_ reflects the order of _`Events`_, but it does **not** represent the notion of the time in a physical sense.\n",
        "* **`u`**—_`User`_.\n",
        "* **`z`**—_`Event Type`_. There are two types of _`Events`_: _Organic_ and _Bandit_.\n",
        "* **`v`**—_`View`_. The column shows which _`Product`_ was shown to a _`User`_ in an _Organic_ _`Event`_.\n",
        "* **`a`**—_`Action`_. Currently, _`Action`_ is a _`Product`_ that was provided to a _`User`_ during a _Bandit_ _`Event`_.\n",
        "* **`c`**—_`Click`_. It is a _Reward_ for an _`Action`_ provided by the _`Agent`_.\n",
        "* **`ps`**—Probability of selecting a particular _`Action`_.\n",
        "\n",
        "**Note #1:** _`Time`_ , _`User`_ , _`Views`_ , and _`Actions`_ **all** they start with _`0`_.\n",
        "\n",
        "**Note #2:** For any _`User`_, _Organic_ _`Event`_ _**always**_ precedes a _Bandit_ _`Event`_."
      ]
    },
    {
      "cell_type": "markdown",
      "metadata": {
        "id": "NEDzaqcacsSX"
      },
      "source": [
        "## Data Analysis\n",
        "Let's analyze these histograms:\n",
        "* _Actions per Product_\n",
        "* _Clicks per Product_\n",
        "* _Views per Product_."
      ]
    },
    {
      "cell_type": "code",
      "metadata": {
        "colab": {
          "base_uri": "https://localhost:8080/",
          "height": 227
        },
        "id": "ohTgFN89csSX",
        "outputId": "07aabf2e-b442-42f0-e398-b206c74d7d34"
      },
      "source": [
        "plt.title('Number of actions per product')\n",
        "taken_actions = data[data['z'] == 'bandit']['a']\n",
        "actions, action_counts = np.unique(taken_actions, return_counts=True)\n",
        "plt.bar(actions, action_counts)\n",
        "plt.show()"
      ],
      "execution_count": 5,
      "outputs": [
        {
          "output_type": "display_data",
          "data": {
            "image/png": "[encoded data removed]",
            "text/plain": [
              "<Figure size 432x216 with 1 Axes>"
            ]
          },
          "metadata": {
            "tags": [],
            "needs_background": "light"
          }
        }
      ]
    },
    {
      "cell_type": "markdown",
      "metadata": {
        "id": "f9-yCNIlcsSX"
      },
      "source": [
        "All _`Actions`_ are _*evenly*_ distributed: each product is as likely to be recommended since the logs come from the realization of a random policy (the default random agent).\n",
        "It is not typical behavior (usually actions are personalized, not random), and we will relax this assumption later in the course."
      ]
    },
    {
      "cell_type": "code",
      "metadata": {
        "colab": {
          "base_uri": "https://localhost:8080/",
          "height": 227
        },
        "id": "6ctxzeFWcsSY",
        "outputId": "efb903a6-7689-4c42-89bc-35aead4fbf1e"
      },
      "source": [
        "rewarded_actions = data.loc[data['c']>0, 'a']\n",
        "actions, total_rewards = np.unique(rewarded_actions, return_counts=True)\n",
        "\n",
        "plt.title('Histogram of clicks per product')\n",
        "plt.bar(actions, total_rewards)\n",
        "plt.show()"
      ],
      "execution_count": 11,
      "outputs": [
        {
          "output_type": "display_data",
          "data": {
            "image/png": "[encoded data removed]",
            "text/plain": [
              "<Figure size 432x216 with 1 Axes>"
            ]
          },
          "metadata": {
            "tags": [],
            "needs_background": "light"
          }
        }
      ]
    },
    {
      "cell_type": "markdown",
      "metadata": {
        "id": "lZXiGUq5csSY"
      },
      "source": [
        "We can estimate a click-through rate for each recommendation by dividing the number of times we obtained a click by the number of impressions.  This produces the following \"bandit best of\":"
      ]
    },
    {
      "cell_type": "code",
      "metadata": {
        "id": "U4D3ie0gcsSY"
      },
      "source": [
        "from scipy.stats.distributions import beta\n",
        "\n",
        "def get_beta_confidence_interval(n_impressions, n_clicks):\n",
        "    n_unclicked = n_impressions - n_clicks\n",
        "    low_quantile = beta.ppf(0.025, n_clicks + 1, n_unclicked + 1)\n",
        "    median = beta.ppf(0.500, n_clicks + 1, n_unclicked + 1)\n",
        "    high_quantile = beta.ppf(0.975, n_clicks + 1, n_unclicked + 1)\n",
        "    return median - low_quantile, high_quantile - median\n",
        "    "
      ],
      "execution_count": 12,
      "outputs": []
    },
    {
      "cell_type": "code",
      "metadata": {
        "colab": {
          "base_uri": "https://localhost:8080/",
          "height": 241
        },
        "id": "X8K3bJsVcsSY",
        "outputId": "3eef8356-c26c-417e-f488-4d02387c6dd4"
      },
      "source": [
        "ctr = np.zeros(num_products)\n",
        "lower_errors = np.zeros(num_products)\n",
        "upper_errors = np.zeros(num_products)\n",
        "\n",
        "for product_id in actions.astype(int):\n",
        "    n_impressions = action_counts[product_id]\n",
        "    n_clicks = total_rewards[product_id]\n",
        "    \n",
        "    lower_bound, upper_bound = get_beta_confidence_interval(n_impressions, n_clicks)\n",
        "    \n",
        "    ctr[product_id] = n_clicks / n_impressions\n",
        "    lower_errors[product_id] = lower_bound\n",
        "    upper_errors[product_id] = upper_bound\n",
        "\n",
        "plt.title('Click through rate (non personalised)')\n",
        "\n",
        "plt.errorbar(\n",
        "    actions, ctr, yerr=(lower_errors, upper_errors),\n",
        "    fmt='o', ecolor='darkred', capsize=4)\n",
        "\n",
        "plt.xlabel('Product ID')\n",
        "plt.ylabel('Click-through rate')\n",
        "plt.show()"
      ],
      "execution_count": 17,
      "outputs": [
        {
          "output_type": "display_data",
          "data": {
            "image/png": "[encoded data removed]",
            "text/plain": [
              "<Figure size 432x216 with 1 Axes>"
            ]
          },
          "metadata": {
            "tags": [],
            "needs_background": "light"
          }
        }
      ]
    },
    {
      "cell_type": "markdown",
      "metadata": {
        "id": "-ljrjZOpcsSY"
      },
      "source": [
        "## Greedy agents"
      ]
    },
    {
      "cell_type": "markdown",
      "metadata": {
        "id": "xWhfVUTbcsSZ"
      },
      "source": [
        "### Bandit based\n",
        "The non-personalised click-through rate can be used as a non-personalised agent.  It will be our first likelihood-based agent."
      ]
    },
    {
      "cell_type": "code",
      "metadata": {
        "id": "oSjm-rQlcsSZ"
      },
      "source": [
        "from collections import defaultdict\n",
        "\n",
        "from recogym.agents import Agent\n",
        "\n",
        "class SingleActionAgent(Agent):\n",
        "    def __init__(self, preferred_action, config = Configuration({'num_products': 10})):\n",
        "        Agent.__init__(self, config)\n",
        "        self.preferred_action = preferred_action\n",
        "        \n",
        "    def act(self, observation, reward, done):\n",
        "        probabilities = np.zeros(self.config.num_products)\n",
        "        probabilities[self.preferred_action] = 1.\n",
        "        return {\n",
        "            **super().act(observation, reward, done),\n",
        "            **{\n",
        "                'a': self.preferred_action,\n",
        "                'ps': probabilities[self.preferred_action],\n",
        "                'ps-a': probabilities,\n",
        "            },\n",
        "        }"
      ],
      "execution_count": 18,
      "outputs": []
    },
    {
      "cell_type": "code",
      "metadata": {
        "colab": {
          "base_uri": "https://localhost:8080/"
        },
        "id": "Yw41F3uhcsSZ",
        "outputId": "269565e7-499c-4906-d9f6-b01e714cf6a5"
      },
      "source": [
        "# Initialise your agent.\n",
        "top_ctr_item = np.argmax(ctr)\n",
        "print('The Greedy-Bandit agent will always take action {0}'.format(top_ctr_item))\n",
        "greedy_bandit = SingleActionAgent(top_ctr_item, Configuration(env_1_args))"
      ],
      "execution_count": 21,
      "outputs": [
        {
          "output_type": "stream",
          "text": [
            "The Greedy-Bandit agent will always take action 0\n"
          ],
          "name": "stdout"
        }
      ]
    },
    {
      "cell_type": "markdown",
      "metadata": {
        "id": "ffYgBcubcsSZ"
      },
      "source": [
        "### Organic based"
      ]
    },
    {
      "cell_type": "markdown",
      "metadata": {
        "id": "RjXvZJ7ocsSZ"
      },
      "source": [
        "The ads that attract the most clicks are not, in general, the same as the products that are often viewed organically, to see this, we can plot the organic views:"
      ]
    },
    {
      "cell_type": "code",
      "metadata": {
        "colab": {
          "base_uri": "https://localhost:8080/",
          "height": 295
        },
        "id": "fF_poQBVcsSZ",
        "outputId": "c4aced99-b518-4a0c-e6a4-784b02c7ac43"
      },
      "source": [
        "product_views =  data[data['z'] == 'organic']['v']\n",
        "products, views_counts = np.unique(product_views, return_counts=True)\n",
        "\n",
        "fig, axes = plt.subplots(1, 3, figsize=(18, 3))\n",
        "axes[0].set_title('Histogram of Views per Product')\n",
        "axes[0].bar(products, views_counts)\n",
        "\n",
        "axes[1].set_title('Histogram of CTR per Product')\n",
        "axes[1].bar(products, ctr)\n",
        "\n",
        "sns.regplot(views_counts, ctr, ax=axes[2])\n",
        "axes[2].set_title('CTR for number of organic views')\n",
        "axes[2].set_xlabel('Number of organic views')\n",
        "axes[2].set_ylabel('Click-through rate')\n",
        "\n",
        "plt.show()"
      ],
      "execution_count": 22,
      "outputs": [
        {
          "output_type": "stream",
          "text": [
            "/usr/local/lib/python3.6/dist-packages/seaborn/_decorators.py:43: FutureWarning: Pass the following variables as keyword args: x, y. From version 0.12, the only valid positional argument will be `data`, and passing other arguments without an explicit keyword will result in an error or misinterpretation.\n",
            "  FutureWarning\n"
          ],
          "name": "stderr"
        },
        {
          "output_type": "display_data",
          "data": {
            "image/png": "[encoded data removed]",
            "text/plain": [
              "<Figure size 1296x216 with 3 Axes>"
            ]
          },
          "metadata": {
            "tags": [],
            "needs_background": "light"
          }
        }
      ]
    },
    {
      "cell_type": "markdown",
      "metadata": {
        "id": "ClLxHEALcsSa"
      },
      "source": [
        "While there may be a relationship between popular products and a high click-through rate, it is certainly not guaranteed.  This fact underlies the need to use bandit feedback.  Here we will develop our final organic agent as an organic best-of to hammer this point."
      ]
    },
    {
      "cell_type": "code",
      "metadata": {
        "colab": {
          "base_uri": "https://localhost:8080/"
        },
        "id": "i9yjH5WZcsSa",
        "outputId": "a65410eb-d6c5-402d-89e2-8a45688c0bcb"
      },
      "source": [
        "top_viewed_item = np.argmax(views_counts)\n",
        "print('The organic best-of agent will always take action {0}'.format(top_viewed_item))\n",
        "greedy_organic = SingleActionAgent(top_viewed_item, Configuration(env_1_args))"
      ],
      "execution_count": 24,
      "outputs": [
        {
          "output_type": "stream",
          "text": [
            "The organic best-of agent will always take action 7\n"
          ],
          "name": "stdout"
        }
      ]
    },
    {
      "cell_type": "code",
      "metadata": {
        "colab": {
          "base_uri": "https://localhost:8080/"
        },
        "id": "zLlQZRwycsSa",
        "outputId": "06ec57c6-4f08-4277-9331-f984c112fb0f"
      },
      "source": [
        "%%time\n",
        "from recogym.agents import RandomAgent, random_args\n",
        "from recogym.evaluate_agent import verify_agents, plot_verify_agents\n",
        "\n",
        "random_agent = RandomAgent(Configuration({\n",
        "    **env_1_args,\n",
        "    **random_args,\n",
        "}))\n",
        "\n",
        "result = verify_agents(\n",
        "    env, number_of_users = 1000, # try with 5000 for more significant results\n",
        "    agents = {\n",
        "        'Random Agent': random_agent,\n",
        "        'Greedy-Organic aka. best-of': greedy_organic,\n",
        "        'Greedy-Bandit': greedy_bandit,\n",
        "   })"
      ],
      "execution_count": 25,
      "outputs": [
        {
          "output_type": "stream",
          "text": [
            "Organic Users: 0it [00:00, ?it/s]\n",
            "Users: 100%|██████████| 1000/1000 [00:25<00:00, 38.92it/s]\n",
            "Organic Users: 0it [00:00, ?it/s]\n",
            "Users: 100%|██████████| 1000/1000 [00:25<00:00, 39.48it/s]\n",
            "Organic Users: 0it [00:00, ?it/s]\n",
            "Users: 100%|██████████| 1000/1000 [00:25<00:00, 39.70it/s]\n"
          ],
          "name": "stderr"
        },
        {
          "output_type": "stream",
          "text": [
            "CPU times: user 1min 19s, sys: 6.71 s, total: 1min 25s\n",
            "Wall time: 1min 16s\n"
          ],
          "name": "stdout"
        }
      ]
    },
    {
      "cell_type": "code",
      "metadata": {
        "colab": {
          "base_uri": "https://localhost:8080/",
          "height": 227
        },
        "id": "A_87-z_bcsSa",
        "outputId": "2954d459-9da0-4933-9903-5d136c508a91"
      },
      "source": [
        "fig = plot_verify_agents(result)\n",
        "plt.xticks(rotation=0)\n",
        "plt.show()"
      ],
      "execution_count": 26,
      "outputs": [
        {
          "output_type": "display_data",
          "data": {
            "image/png": "[encoded data removed]",
            "text/plain": [
              "<Figure size 432x216 with 1 Axes>"
            ]
          },
          "metadata": {
            "tags": [],
            "needs_background": "light"
          }
        }
      ]
    },
    {
      "cell_type": "markdown",
      "metadata": {
        "id": "9-NgtbfxcsSa"
      },
      "source": [
        "In this environment, the bandit agent is better than best-of and random agents."
      ]
    }
  ]
}