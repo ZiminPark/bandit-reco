{
 "cells": [
  {
   "cell_type": "code",
   "execution_count": 1,
   "metadata": {},
   "outputs": [
    {
     "name": "stdout",
     "output_type": "stream",
     "text": [
      "Requirement already satisfied: recogym in /Users/d.mykhaylov/dev/src/reco-gym.github (0.1.3.0)\n",
      "Requirement already satisfied: absl-py in /Users/d.mykhaylov/anaconda3/envs/reco-gym/lib/python3.6/site-packages (from recogym) (0.8.0)\n",
      "Requirement already satisfied: pandas in /Users/d.mykhaylov/anaconda3/envs/reco-gym/lib/python3.6/site-packages (from recogym) (0.25.1)\n",
      "Requirement already satisfied: matplotlib in /Users/d.mykhaylov/anaconda3/envs/reco-gym/lib/python3.6/site-packages (from recogym) (3.1.1)\n",
      "Requirement already satisfied: simplegeneric in /Users/d.mykhaylov/anaconda3/envs/reco-gym/lib/python3.6/site-packages (from recogym) (0.8.1)\n",
      "Requirement already satisfied: gym in /Users/d.mykhaylov/anaconda3/envs/reco-gym/lib/python3.6/site-packages (from recogym) (0.14.0)\n",
      "Requirement already satisfied: torch in /Users/d.mykhaylov/anaconda3/envs/reco-gym/lib/python3.6/site-packages (from recogym) (1.2.0)\n",
      "Requirement already satisfied: tensorflow in /Users/d.mykhaylov/anaconda3/envs/reco-gym/lib/python3.6/site-packages (from recogym) (2.0.0)\n",
      "Requirement already satisfied: numba in /Users/d.mykhaylov/anaconda3/envs/reco-gym/lib/python3.6/site-packages (from recogym) (0.45.1)\n",
      "Requirement already satisfied: tqdm in /Users/d.mykhaylov/anaconda3/envs/reco-gym/lib/python3.6/site-packages (from recogym) (4.36.1)\n",
      "Requirement already satisfied: datetime in /Users/d.mykhaylov/anaconda3/envs/reco-gym/lib/python3.6/site-packages (from recogym) (4.3)\n",
      "Requirement already satisfied: jupyter in /Users/d.mykhaylov/anaconda3/envs/reco-gym/lib/python3.6/site-packages (from recogym) (1.0.0)\n",
      "Requirement already satisfied: scipy in /Users/d.mykhaylov/anaconda3/envs/reco-gym/lib/python3.6/site-packages (from recogym) (1.3.1)\n",
      "Requirement already satisfied: numpy in /Users/d.mykhaylov/anaconda3/envs/reco-gym/lib/python3.6/site-packages (from recogym) (1.17.4)\n",
      "Requirement already satisfied: scikit-learn in /Users/d.mykhaylov/anaconda3/envs/reco-gym/lib/python3.6/site-packages (from recogym) (0.21.3)\n",
      "Requirement already satisfied: six in /Users/d.mykhaylov/anaconda3/envs/reco-gym/lib/python3.6/site-packages (from absl-py->recogym) (1.12.0)\n",
      "Requirement already satisfied: pytz>=2017.2 in /Users/d.mykhaylov/anaconda3/envs/reco-gym/lib/python3.6/site-packages (from pandas->recogym) (2019.2)\n",
      "Requirement already satisfied: python-dateutil>=2.6.1 in /Users/d.mykhaylov/anaconda3/envs/reco-gym/lib/python3.6/site-packages (from pandas->recogym) (2.8.0)\n",
      "Requirement already satisfied: kiwisolver>=1.0.1 in /Users/d.mykhaylov/anaconda3/envs/reco-gym/lib/python3.6/site-packages (from matplotlib->recogym) (1.1.0)\n",
      "Requirement already satisfied: cycler>=0.10 in /Users/d.mykhaylov/anaconda3/envs/reco-gym/lib/python3.6/site-packages (from matplotlib->recogym) (0.10.0)\n",
      "Requirement already satisfied: pyparsing!=2.0.4,!=2.1.2,!=2.1.6,>=2.0.1 in /Users/d.mykhaylov/anaconda3/envs/reco-gym/lib/python3.6/site-packages (from matplotlib->recogym) (2.4.2)\n",
      "Requirement already satisfied: cloudpickle~=1.2.0 in /Users/d.mykhaylov/anaconda3/envs/reco-gym/lib/python3.6/site-packages (from gym->recogym) (1.2.2)\n",
      "Requirement already satisfied: pyglet<=1.3.2,>=1.2.0 in /Users/d.mykhaylov/anaconda3/envs/reco-gym/lib/python3.6/site-packages (from gym->recogym) (1.3.2)\n",
      "Requirement already satisfied: astor>=0.6.0 in /Users/d.mykhaylov/anaconda3/envs/reco-gym/lib/python3.6/site-packages (from tensorflow->recogym) (0.8.0)\n",
      "Requirement already satisfied: tensorflow-estimator<2.1.0,>=2.0.0 in /Users/d.mykhaylov/anaconda3/envs/reco-gym/lib/python3.6/site-packages (from tensorflow->recogym) (2.0.0)\n",
      "Requirement already satisfied: protobuf>=3.6.1 in /Users/d.mykhaylov/anaconda3/envs/reco-gym/lib/python3.6/site-packages (from tensorflow->recogym) (3.9.2)\n",
      "Requirement already satisfied: termcolor>=1.1.0 in /Users/d.mykhaylov/anaconda3/envs/reco-gym/lib/python3.6/site-packages (from tensorflow->recogym) (1.1.0)\n",
      "Requirement already satisfied: gast==0.2.2 in /Users/d.mykhaylov/anaconda3/envs/reco-gym/lib/python3.6/site-packages (from tensorflow->recogym) (0.2.2)\n",
      "Requirement already satisfied: tensorboard<2.1.0,>=2.0.0 in /Users/d.mykhaylov/anaconda3/envs/reco-gym/lib/python3.6/site-packages (from tensorflow->recogym) (2.0.0)\n",
      "Requirement already satisfied: grpcio>=1.8.6 in /Users/d.mykhaylov/anaconda3/envs/reco-gym/lib/python3.6/site-packages (from tensorflow->recogym) (1.16.1)\n",
      "Requirement already satisfied: wrapt>=1.11.1 in /Users/d.mykhaylov/anaconda3/envs/reco-gym/lib/python3.6/site-packages (from tensorflow->recogym) (1.11.2)\n",
      "Requirement already satisfied: keras-applications>=1.0.8 in /Users/d.mykhaylov/anaconda3/envs/reco-gym/lib/python3.6/site-packages (from tensorflow->recogym) (1.0.8)\n",
      "Requirement already satisfied: keras-preprocessing>=1.0.5 in /Users/d.mykhaylov/anaconda3/envs/reco-gym/lib/python3.6/site-packages (from tensorflow->recogym) (1.1.0)\n",
      "Requirement already satisfied: google-pasta>=0.1.6 in /Users/d.mykhaylov/anaconda3/envs/reco-gym/lib/python3.6/site-packages (from tensorflow->recogym) (0.1.7)\n",
      "Requirement already satisfied: wheel>=0.26 in /Users/d.mykhaylov/anaconda3/envs/reco-gym/lib/python3.6/site-packages (from tensorflow->recogym) (0.33.6)\n",
      "Requirement already satisfied: opt-einsum>=2.3.2 in /Users/d.mykhaylov/anaconda3/envs/reco-gym/lib/python3.6/site-packages (from tensorflow->recogym) (3.1.0)\n",
      "Requirement already satisfied: llvmlite>=0.29.0dev0 in /Users/d.mykhaylov/anaconda3/envs/reco-gym/lib/python3.6/site-packages (from numba->recogym) (0.29.0)\n",
      "Requirement already satisfied: zope.interface in /Users/d.mykhaylov/anaconda3/envs/reco-gym/lib/python3.6/site-packages (from datetime->recogym) (4.6.0)\n",
      "Requirement already satisfied: ipykernel in /Users/d.mykhaylov/anaconda3/envs/reco-gym/lib/python3.6/site-packages (from jupyter->recogym) (5.1.2)\n",
      "Requirement already satisfied: qtconsole in /Users/d.mykhaylov/anaconda3/envs/reco-gym/lib/python3.6/site-packages (from jupyter->recogym) (4.5.5)\n",
      "Requirement already satisfied: notebook in /Users/d.mykhaylov/anaconda3/envs/reco-gym/lib/python3.6/site-packages (from jupyter->recogym) (6.0.1)\n",
      "Requirement already satisfied: jupyter-console in /Users/d.mykhaylov/anaconda3/envs/reco-gym/lib/python3.6/site-packages (from jupyter->recogym) (6.0.0)\n",
      "Requirement already satisfied: nbconvert in /Users/d.mykhaylov/anaconda3/envs/reco-gym/lib/python3.6/site-packages (from jupyter->recogym) (5.6.0)\n",
      "Requirement already satisfied: ipywidgets in /Users/d.mykhaylov/anaconda3/envs/reco-gym/lib/python3.6/site-packages (from jupyter->recogym) (7.5.1)\n",
      "Requirement already satisfied: joblib>=0.11 in /Users/d.mykhaylov/anaconda3/envs/reco-gym/lib/python3.6/site-packages (from scikit-learn->recogym) (0.14.0)\n",
      "Requirement already satisfied: setuptools in /Users/d.mykhaylov/anaconda3/envs/reco-gym/lib/python3.6/site-packages (from kiwisolver>=1.0.1->matplotlib->recogym) (41.2.0)\n",
      "Requirement already satisfied: future in /Users/d.mykhaylov/anaconda3/envs/reco-gym/lib/python3.6/site-packages (from pyglet<=1.3.2,>=1.2.0->gym->recogym) (0.17.1)\n",
      "Requirement already satisfied: werkzeug>=0.11.15 in /Users/d.mykhaylov/anaconda3/envs/reco-gym/lib/python3.6/site-packages (from tensorboard<2.1.0,>=2.0.0->tensorflow->recogym) (0.16.0)\n",
      "Requirement already satisfied: markdown>=2.6.8 in /Users/d.mykhaylov/anaconda3/envs/reco-gym/lib/python3.6/site-packages (from tensorboard<2.1.0,>=2.0.0->tensorflow->recogym) (3.1.1)\n",
      "Requirement already satisfied: h5py in /Users/d.mykhaylov/anaconda3/envs/reco-gym/lib/python3.6/site-packages (from keras-applications>=1.0.8->tensorflow->recogym) (2.9.0)\n",
      "Requirement already satisfied: ipython>=5.0.0 in /Users/d.mykhaylov/anaconda3/envs/reco-gym/lib/python3.6/site-packages (from ipykernel->jupyter->recogym) (7.8.0)\n",
      "Requirement already satisfied: jupyter-client in /Users/d.mykhaylov/anaconda3/envs/reco-gym/lib/python3.6/site-packages (from ipykernel->jupyter->recogym) (5.3.3)\n",
      "Requirement already satisfied: traitlets>=4.1.0 in /Users/d.mykhaylov/anaconda3/envs/reco-gym/lib/python3.6/site-packages (from ipykernel->jupyter->recogym) (4.3.3)\n",
      "Requirement already satisfied: tornado>=4.2 in /Users/d.mykhaylov/anaconda3/envs/reco-gym/lib/python3.6/site-packages (from ipykernel->jupyter->recogym) (6.0.3)\n",
      "Requirement already satisfied: jupyter-core in /Users/d.mykhaylov/anaconda3/envs/reco-gym/lib/python3.6/site-packages (from qtconsole->jupyter->recogym) (4.5.0)\n",
      "Requirement already satisfied: ipython-genutils in /Users/d.mykhaylov/anaconda3/envs/reco-gym/lib/python3.6/site-packages (from qtconsole->jupyter->recogym) (0.2.0)\n",
      "Requirement already satisfied: pygments in /Users/d.mykhaylov/anaconda3/envs/reco-gym/lib/python3.6/site-packages (from qtconsole->jupyter->recogym) (2.4.2)\n",
      "Requirement already satisfied: nbformat in /Users/d.mykhaylov/anaconda3/envs/reco-gym/lib/python3.6/site-packages (from notebook->jupyter->recogym) (4.4.0)\n",
      "Requirement already satisfied: terminado>=0.8.1 in /Users/d.mykhaylov/anaconda3/envs/reco-gym/lib/python3.6/site-packages (from notebook->jupyter->recogym) (0.8.2)\n"
     ]
    },
    {
     "name": "stdout",
     "output_type": "stream",
     "text": [
      "Requirement already satisfied: prometheus-client in /Users/d.mykhaylov/anaconda3/envs/reco-gym/lib/python3.6/site-packages (from notebook->jupyter->recogym) (0.7.1)\n",
      "Requirement already satisfied: pyzmq>=17 in /Users/d.mykhaylov/anaconda3/envs/reco-gym/lib/python3.6/site-packages (from notebook->jupyter->recogym) (18.1.0)\n",
      "Requirement already satisfied: jinja2 in /Users/d.mykhaylov/anaconda3/envs/reco-gym/lib/python3.6/site-packages (from notebook->jupyter->recogym) (2.10.3)\n",
      "Requirement already satisfied: Send2Trash in /Users/d.mykhaylov/anaconda3/envs/reco-gym/lib/python3.6/site-packages (from notebook->jupyter->recogym) (1.5.0)\n",
      "Requirement already satisfied: prompt-toolkit<2.1.0,>=2.0.0 in /Users/d.mykhaylov/anaconda3/envs/reco-gym/lib/python3.6/site-packages (from jupyter-console->jupyter->recogym) (2.0.10)\n",
      "Requirement already satisfied: pandocfilters>=1.4.1 in /Users/d.mykhaylov/anaconda3/envs/reco-gym/lib/python3.6/site-packages (from nbconvert->jupyter->recogym) (1.4.2)\n",
      "Requirement already satisfied: mistune<2,>=0.8.1 in /Users/d.mykhaylov/anaconda3/envs/reco-gym/lib/python3.6/site-packages (from nbconvert->jupyter->recogym) (0.8.4)\n",
      "Requirement already satisfied: testpath in /Users/d.mykhaylov/anaconda3/envs/reco-gym/lib/python3.6/site-packages (from nbconvert->jupyter->recogym) (0.4.2)\n",
      "Requirement already satisfied: defusedxml in /Users/d.mykhaylov/anaconda3/envs/reco-gym/lib/python3.6/site-packages (from nbconvert->jupyter->recogym) (0.6.0)\n",
      "Requirement already satisfied: entrypoints>=0.2.2 in /Users/d.mykhaylov/anaconda3/envs/reco-gym/lib/python3.6/site-packages (from nbconvert->jupyter->recogym) (0.3)\n",
      "Requirement already satisfied: bleach in /Users/d.mykhaylov/anaconda3/envs/reco-gym/lib/python3.6/site-packages (from nbconvert->jupyter->recogym) (3.1.0)\n",
      "Requirement already satisfied: widgetsnbextension~=3.5.0 in /Users/d.mykhaylov/anaconda3/envs/reco-gym/lib/python3.6/site-packages (from ipywidgets->jupyter->recogym) (3.5.1)\n",
      "Requirement already satisfied: backcall in /Users/d.mykhaylov/anaconda3/envs/reco-gym/lib/python3.6/site-packages (from ipython>=5.0.0->ipykernel->jupyter->recogym) (0.1.0)\n",
      "Requirement already satisfied: pexpect; sys_platform != \"win32\" in /Users/d.mykhaylov/anaconda3/envs/reco-gym/lib/python3.6/site-packages (from ipython>=5.0.0->ipykernel->jupyter->recogym) (4.7.0)\n",
      "Requirement already satisfied: pickleshare in /Users/d.mykhaylov/anaconda3/envs/reco-gym/lib/python3.6/site-packages (from ipython>=5.0.0->ipykernel->jupyter->recogym) (0.7.5)\n",
      "Requirement already satisfied: jedi>=0.10 in /Users/d.mykhaylov/anaconda3/envs/reco-gym/lib/python3.6/site-packages (from ipython>=5.0.0->ipykernel->jupyter->recogym) (0.15.1)\n",
      "Requirement already satisfied: appnope; sys_platform == \"darwin\" in /Users/d.mykhaylov/anaconda3/envs/reco-gym/lib/python3.6/site-packages (from ipython>=5.0.0->ipykernel->jupyter->recogym) (0.1.0)\n",
      "Requirement already satisfied: decorator in /Users/d.mykhaylov/anaconda3/envs/reco-gym/lib/python3.6/site-packages (from ipython>=5.0.0->ipykernel->jupyter->recogym) (4.4.0)\n",
      "Requirement already satisfied: jsonschema!=2.5.0,>=2.4 in /Users/d.mykhaylov/anaconda3/envs/reco-gym/lib/python3.6/site-packages (from nbformat->notebook->jupyter->recogym) (3.0.2)\n",
      "Requirement already satisfied: ptyprocess; os_name != \"nt\" in /Users/d.mykhaylov/anaconda3/envs/reco-gym/lib/python3.6/site-packages (from terminado>=0.8.1->notebook->jupyter->recogym) (0.6.0)\n",
      "Requirement already satisfied: MarkupSafe>=0.23 in /Users/d.mykhaylov/anaconda3/envs/reco-gym/lib/python3.6/site-packages (from jinja2->notebook->jupyter->recogym) (1.1.1)\n",
      "Requirement already satisfied: wcwidth in /Users/d.mykhaylov/anaconda3/envs/reco-gym/lib/python3.6/site-packages (from prompt-toolkit<2.1.0,>=2.0.0->jupyter-console->jupyter->recogym) (0.1.7)\n",
      "Requirement already satisfied: webencodings in /Users/d.mykhaylov/anaconda3/envs/reco-gym/lib/python3.6/site-packages (from bleach->nbconvert->jupyter->recogym) (0.5.1)\n",
      "Requirement already satisfied: parso>=0.5.0 in /Users/d.mykhaylov/anaconda3/envs/reco-gym/lib/python3.6/site-packages (from jedi>=0.10->ipython>=5.0.0->ipykernel->jupyter->recogym) (0.5.1)\n",
      "Requirement already satisfied: attrs>=17.4.0 in /Users/d.mykhaylov/anaconda3/envs/reco-gym/lib/python3.6/site-packages (from jsonschema!=2.5.0,>=2.4->nbformat->notebook->jupyter->recogym) (19.2.0)\n",
      "Requirement already satisfied: pyrsistent>=0.14.0 in /Users/d.mykhaylov/anaconda3/envs/reco-gym/lib/python3.6/site-packages (from jsonschema!=2.5.0,>=2.4->nbformat->notebook->jupyter->recogym) (0.15.4)\n"
     ]
    }
   ],
   "source": [
    "!pip install recogym"
   ]
  },
  {
   "cell_type": "markdown",
   "metadata": {},
   "source": [
    "## What is RecoGym?\n",
    "\n",
    "RecoGym is a Python [OpenAI Gym](https://gym.openai.com/) environment for testing recommendation algorithms.  It allows for the testing of both offline and reinforcement-learning based agents.  It provides a way to test algorithms in a toy environment quickly.\n",
    "\n",
    "In this notebook, we will code a simple recommendation agent that suggests an item in proportion to how many times it has been viewed.  We hope to inspire you to create your agents and test them against our baseline models.\n",
    "\n",
    "To make the most out of RecoGym, we suggest you have some experience coding in Python, some background knowledge in recommender systems, and familiarity with the reinforcement learning setup.  Also, be sure to check out the python-based requirements in the README if something below errors."
   ]
  },
  {
   "cell_type": "markdown",
   "metadata": {},
   "source": [
    "## Reinforcement Learning Setup\n",
    "\n",
    "RecoGym follows the usual reinforcement learning setup.  It means there are interactions between the environment (the user's behavior) and the agent (our recommendation algorithm).  The agent receives a reward if the user clicks on the recommendation."
   ]
  },
  {
   "cell_type": "markdown",
   "metadata": {},
   "source": [
    "<img src=\"images/rl-setup.png\" alt=\"Drawing\" style=\"width: 600px;\"/>"
   ]
  },
  {
   "cell_type": "markdown",
   "metadata": {},
   "source": [
    "## Organic and Bandit\n",
    "\n",
    "Even though our focus is biased towards online advertising, we tried to make RecoGym universal to all types of recommendation.  Hence, we introduce the domain-agnostic terms _Organic_ and _Bandit_ sessions.  An _Organic_ session is an observation of items the user interacts with.  For example, it could be views of products on an e-commerce website, listens to songs while streaming music, or readings of articles on an online newspaper.  A _Bandit_ session is one where we have an opportunity to recommend the user an item and observe their behavior.  We receive a reward if they click.\n",
    "\n",
    "<img src=\"images/organic-bandit.png\" alt=\"Drawing\" style=\"width: 450px;\"/>"
   ]
  },
  {
   "cell_type": "markdown",
   "metadata": {},
   "source": [
    "## Offline and Online Learning\n",
    "\n",
    "This project was born out of a desire to improve Criteo's recommendation system by exploring reinforcement learning algorithms. We quickly realized that we couldn't just blindly apply RL algorithms in a production system out of the box. The learning period would be too costly. Instead, we need to leverage the vast amounts of offline training examples we already to make the algorithm perform as good as the current system before releasing it into the online production environment.\n",
    "\n",
    "Thus, RecoGym follows a similar flow. An agent is first given access to many offline training examples produced from a fixed policy. Then, they have access to the online system where they choose the actions."
   ]
  },
  {
   "cell_type": "markdown",
   "metadata": {},
   "source": [
    "<img src=\"images/two-steps.png\" alt=\"Drawing\" style=\"width: 450px;\"/>"
   ]
  },
  {
   "cell_type": "markdown",
   "metadata": {},
   "source": [
    "## Let's see some code - Interacting with the environment \n",
    "\n",
    "\n",
    "The code snippet below shows how to initialize the environment and step through in an 'offline' manner (Here offline means that the environment is generating some recommendations for us).  We print out the results from the environment at each step."
   ]
  },
  {
   "cell_type": "code",
   "execution_count": 2,
   "metadata": {},
   "outputs": [
    {
     "name": "stdout",
     "output_type": "stream",
     "text": [
      "Step: 0 - Action: None - Observation: [{'t': 0, 'u': 0, 'z': 'pageview', 'v': 0}] - Reward: None\n",
      "Step: 1 - Action: {'t': 1, 'u': 0, 'a': 3, 'ps': 0.1, 'ps-a': ()} - Observation: [] - Reward: 0\n",
      "Step: 2 - Action: {'t': 2, 'u': 0, 'a': 4, 'ps': 0.1, 'ps-a': ()} - Observation: [] - Reward: 0\n",
      "Step: 3 - Action: {'t': 3, 'u': 0, 'a': 5, 'ps': 0.1, 'ps-a': ()} - Observation: [] - Reward: 0\n"
     ]
    }
   ],
   "source": [
    "import gym, recogym\n",
    "\n",
    "# env_0_args is a dictionary of default parameters (i.e. number of products).\n",
    "from recogym import env_1_args, Configuration\n",
    "\n",
    "# You can overwrite environment arguments here:\n",
    "env_1_args['random_seed'] = 42\n",
    "\n",
    "# Initialize the gym for the first time by calling .make() and .init_gym()\n",
    "env = gym.make('reco-gym-v1')\n",
    "env.init_gym(env_1_args)\n",
    "\n",
    "# .reset() env before each episode (one episode per user).\n",
    "env.reset()\n",
    "done = False\n",
    "\n",
    "# Counting how many steps.\n",
    "i = 0\n",
    "\n",
    "observation, reward, done = None, 0, False\n",
    "while not done:\n",
    "    action, observation, reward, done, _ = env.step_offline(observation, reward, done)\n",
    "    print(f\"Step: {i} - Action: {action} - Observation: {observation.sessions()} - Reward: {reward}\")\n",
    "    i += 1"
   ]
  },
  {
   "cell_type": "markdown",
   "metadata": {},
   "source": [
    "Okay, there's quite a bit going on here:  \n",
    "- `Action`\n",
    "   * `t` is the timestep (always incremented) and not very important\n",
    "   * `u` is the user id, as we have one user, for now, it's always 0\n",
    "   * `a` is a number between `0` and `num_products - 1` that references the index of the product recommended.\n",
    "   * `ps` is the propensity score or the probability that the agent assigned to this action\n",
    "   * `ps-a` are the probabilities assigned to all actions by the agent (we can see that it's uniform for now)\n",
    "- `observation` will either be `None` or a session of Organic data, showing the index of products the user views.\n",
    "   * `t`, `u` have the same meaning as above\n",
    "   * `z` in the type of event (always pageview for now)\n",
    "   * `v` is the index of the viewed product\n",
    "- `reward` is `0` if the user does not click on the recommended product and `1` if they do.  Notice that when a user clicks on a product (Wherever the reward is `1`), they start a new Organic session.\n",
    "- `done` is a True/False flag indicating if the episode (aka user's timeline) is over.  \n",
    "\n",
    "Also, notice that the first `action` is `None`.  In our implementation, the agent observes Organic behavior before recommending anything.\n",
    "\n",
    "Now, we will show calling the environment in an online manner, where the agent needs to supply an action. For demonstration purposes, we will create a list of hard-coded actions. "
   ]
  },
  {
   "cell_type": "code",
   "execution_count": 3,
   "metadata": {},
   "outputs": [
    {
     "name": "stdout",
     "output_type": "stream",
     "text": [
      "Step: 0 - Action: None - Observation: [{'t': 0, 'u': 0, 'z': 'pageview', 'v': 1}] - Reward: None\n",
      "Step: 1 - Action: 1 - Observation: [] - Reward: 0\n",
      "Step: 2 - Action: 2 - Observation: [] - Reward: 0\n",
      "Step: 3 - Action: 3 - Observation: [] - Reward: 0\n",
      "Step: 4 - Action: 4 - Observation: [] - Reward: 0\n",
      "Step: 5 - Action: 5 - Observation: [{'t': 6, 'u': 0, 'z': 'pageview', 'v': 4}, {'t': 7, 'u': 0, 'z': 'pageview', 'v': 4}, {'t': 8, 'u': 0, 'z': 'pageview', 'v': 4}, {'t': 9, 'u': 0, 'z': 'pageview', 'v': 4}, {'t': 10, 'u': 0, 'z': 'pageview', 'v': 4}, {'t': 11, 'u': 0, 'z': 'pageview', 'v': 6}, {'t': 12, 'u': 0, 'z': 'pageview', 'v': 4}, {'t': 13, 'u': 0, 'z': 'pageview', 'v': 4}, {'t': 14, 'u': 0, 'z': 'pageview', 'v': 4}, {'t': 15, 'u': 0, 'z': 'pageview', 'v': 6}, {'t': 16, 'u': 0, 'z': 'pageview', 'v': 4}, {'t': 17, 'u': 0, 'z': 'pageview', 'v': 1}, {'t': 18, 'u': 0, 'z': 'pageview', 'v': 4}, {'t': 19, 'u': 0, 'z': 'pageview', 'v': 4}, {'t': 20, 'u': 0, 'z': 'pageview', 'v': 4}, {'t': 21, 'u': 0, 'z': 'pageview', 'v': 4}, {'t': 22, 'u': 0, 'z': 'pageview', 'v': 1}, {'t': 23, 'u': 0, 'z': 'pageview', 'v': 6}] - Reward: 0\n"
     ]
    }
   ],
   "source": [
    "# Create a list of hard coded actions.\n",
    "actions = [None] + [1, 2, 3, 4, 5]\n",
    "\n",
    "# Reset the environment and set Done to False.\n",
    "env.reset()\n",
    "done = False\n",
    "\n",
    "# Counting how many steps.\n",
    "i = 0\n",
    "\n",
    "while not done and i < len(actions):\n",
    "    action = actions[i]\n",
    "    observation, reward, done, info = env.step(action)\n",
    "    print(f\"Step: {i} - Action: {action} - Observation: {observation.sessions()} - Reward: {reward}\")\n",
    "    i += 1"
   ]
  },
  {
   "cell_type": "markdown",
   "metadata": {},
   "source": [
    "You'll notice that the offline and online APIs are nearly identical.  The only difference is that one calls either `env.step_offline()` or `env.step(action)`."
   ]
  },
  {
   "cell_type": "markdown",
   "metadata": {},
   "source": [
    "## Creating our first agent\n",
    "\n",
    "Now that we have seen how the offline and online versions of the environment work, it is time to code our first recommendation agent!  Technically, an agent can be anything that produces actions for the environment to use.  However, we will show you the object-oriented way we like to create agents.\n",
    "\n",
    "Below is the code for a very simple agent - the popularity based agent. The popularity based agent records merely how many times a user sees each product organically, then when required to make a recommendation, the agent chooses a product randomly in proportion with a number of times the user has viewed it."
   ]
  },
  {
   "cell_type": "code",
   "execution_count": 4,
   "metadata": {},
   "outputs": [],
   "source": [
    "import numpy as np\n",
    "from numpy.random import choice\n",
    "from recogym.agents import Agent\n",
    "\n",
    "# Define an Agent class.\n",
    "class PopularityAgent(Agent):\n",
    "    def __init__(self, config):\n",
    "        # Set number of products as an attribute of the Agent.\n",
    "        super(PopularityAgent, self).__init__(config)\n",
    "\n",
    "        # Track number of times each item viewed in Organic session.\n",
    "        self.organic_views = np.zeros(self.config.num_products)\n",
    "\n",
    "    def train(self, observation, action, reward, done):\n",
    "        \"\"\"Train method learns from a tuple of data.\n",
    "            this method can be called for offline or online learning\"\"\"\n",
    "\n",
    "        # Adding organic session to organic view counts.\n",
    "        if observation:\n",
    "            for session in observation.sessions():\n",
    "                self.organic_views[session['v']] += 1\n",
    "\n",
    "    def act(self, observation, reward, done):\n",
    "        \"\"\"Act method returns an action based on current observation and past\n",
    "            history\"\"\"\n",
    "\n",
    "        # Choosing action randomly in proportion with number of views.\n",
    "        prob = self.organic_views / np.sum(self.organic_views)\n",
    "        action = choice(self.config.num_products, p = prob)\n",
    "\n",
    "        return {\n",
    "            **super().act(observation, reward, done),\n",
    "            **{\n",
    "                'a': action,\n",
    "                'ps': prob[action]\n",
    "            }\n",
    "        }"
   ]
  },
  {
   "cell_type": "markdown",
   "metadata": {},
   "source": [
    "The `PopularityAgent` class above demonstrates our preferred way to create agents for RecoGym. Notice how we have both a `train` and `act` method present. The `train` method is designed to take in training data from the environments `step_offline` method and thus has nothing to return, while the `act` method must return an action to pass back into the environment. \n",
    "\n",
    "The code below highlights how one would use this agent for first offline training and then using the learned knowledge to make recommendations online."
   ]
  },
  {
   "cell_type": "code",
   "execution_count": 5,
   "metadata": {},
   "outputs": [
    {
     "name": "stdout",
     "output_type": "stream",
     "text": [
      "Click Through Rate: 0.0140\n"
     ]
    }
   ],
   "source": [
    "# Instantiate instance of PopularityAgent class.\n",
    "num_products = 10\n",
    "agent = PopularityAgent(Configuration({\n",
    "    **env_1_args,\n",
    "    'num_products': num_products,\n",
    "}))\n",
    "\n",
    "# Resets random seed back to 42, or whatever we set it to in env_0_args.\n",
    "env.reset_random_seed()\n",
    "\n",
    "# Train on 1000 users offline.\n",
    "num_offline_users = 1000\n",
    "\n",
    "for _ in range(num_offline_users):\n",
    "\n",
    "    # Reset env and set done to False.\n",
    "    env.reset()\n",
    "    done = False\n",
    "\n",
    "    observation, reward, done = None, 0, False\n",
    "    while not done:\n",
    "        old_observation = observation\n",
    "        action, observation, reward, done, info = env.step_offline(observation, reward, done)\n",
    "        agent.train(old_observation, action, reward, done)\n",
    "\n",
    "# Train on 100 users online and track click through rate.\n",
    "num_online_users = 100\n",
    "num_clicks, num_events = 0, 0\n",
    "\n",
    "for _ in range(num_online_users):\n",
    "\n",
    "    # Reset env and set done to False.\n",
    "    env.reset()\n",
    "    observation, _, done, _ = env.step(None)\n",
    "    reward = None\n",
    "    done = None\n",
    "    while not done:\n",
    "        action = agent.act(observation, reward, done)\n",
    "        observation, reward, done, info = env.step(action['a'])\n",
    "\n",
    "        # Used for calculating click through rate.\n",
    "        num_clicks += 1 if reward == 1 else 0\n",
    "        num_events += 1\n",
    "\n",
    "ctr = num_clicks / num_events\n",
    "\n",
    "print(f\"Click Through Rate: {ctr:.4f}\")"
   ]
  },
  {
   "cell_type": "markdown",
   "metadata": {},
   "source": [
    "## Testing our first agent\n",
    "\n",
    "Now we have created our popularity based agent, and we should test it against an even simpler baseline - one that performs no learning and recommends products uniformly at random. To do this, we will first load a more complex version of the toy data environment called `reco-gym-v1`.\n",
    "\n",
    "Next, we will load another agent for our agent to compete against each other. Here you can see we make use of the `RandomAgent` and create an instance of it in addition to our `PopularityAgent`."
   ]
  },
  {
   "cell_type": "code",
   "execution_count": 6,
   "metadata": {},
   "outputs": [],
   "source": [
    "import gym, recogym\n",
    "from recogym import env_1_args\n",
    "from recogym.agents import RandomAgent, random_args\n",
    "\n",
    "from copy import deepcopy\n",
    "\n",
    "env_1_args['random_seed'] = 42\n",
    "\n",
    "env = gym.make('reco-gym-v1')\n",
    "env.init_gym(env_1_args)\n",
    "\n",
    "# Create the two agents.\n",
    "num_products = env_1_args['num_products']\n",
    "\n",
    "popularity_agent = PopularityAgent(Configuration(env_1_args))\n",
    "agent_rand = RandomAgent(Configuration({\n",
    "    **env_1_args,\n",
    "    **random_args,\n",
    "}))"
   ]
  },
  {
   "cell_type": "markdown",
   "metadata": {},
   "source": [
    "Now we have instances of our two agents. We can use the `test_agent` method from RecoGym and compare their performance.\n",
    "\n",
    "To use `test_agent`, one must provide a copy of the current env, a copy of the agent class, the number of training users, and the number of testing users. "
   ]
  },
  {
   "cell_type": "code",
   "execution_count": 7,
   "metadata": {},
   "outputs": [
    {
     "name": "stderr",
     "output_type": "stream",
     "text": [
      "Organic Users: 100%|██████████| 100/100 [00:00<00:00, 1837.19it/s]\n",
      "Users:   1%|          | 7/1000 [00:00<00:14, 69.67it/s]"
     ]
    },
    {
     "name": "stdout",
     "output_type": "stream",
     "text": [
      "START: Agent Training #0\n",
      "START: Agent Training @ Epoch #0\n"
     ]
    },
    {
     "name": "stderr",
     "output_type": "stream",
     "text": [
      "Users: 100%|██████████| 1000/1000 [00:15<00:00, 63.97it/s]\n",
      "Organic Users: 0it [00:00, ?it/s]\n",
      "Users:   2%|▏         | 17/1000 [00:00<00:15, 64.25it/s]"
     ]
    },
    {
     "name": "stdout",
     "output_type": "stream",
     "text": [
      "END: Agent Training @ Epoch #0 (15.69202470779419s)\n",
      "START: Agent Evaluating @ Epoch #0\n"
     ]
    },
    {
     "name": "stderr",
     "output_type": "stream",
     "text": [
      "Users: 100%|██████████| 1000/1000 [00:15<00:00, 65.67it/s]\n"
     ]
    },
    {
     "name": "stdout",
     "output_type": "stream",
     "text": [
      "END: Agent Evaluating @ Epoch #0 (15.346268892288208s)\n"
     ]
    },
    {
     "data": {
      "text/plain": [
       "(0.011063410704445496, 0.010331844629508018, 0.011828327724747623)"
      ]
     },
     "execution_count": 7,
     "metadata": {},
     "output_type": "execute_result"
    }
   ],
   "source": [
    "# Credible interval of the CTR median and 0.025 0.975 quantile.\n",
    "recogym.test_agent(\n",
    "    deepcopy(env),\n",
    "    deepcopy(agent_rand),\n",
    "    num_offline_users=1000,\n",
    "    num_online_users=1000\n",
    ")"
   ]
  },
  {
   "cell_type": "code",
   "execution_count": 8,
   "metadata": {},
   "outputs": [
    {
     "name": "stderr",
     "output_type": "stream",
     "text": [
      "Organic Users: 100%|██████████| 100/100 [00:00<00:00, 1528.74it/s]\n",
      "Users:   0%|          | 0/1000 [00:00<?, ?it/s]"
     ]
    },
    {
     "name": "stdout",
     "output_type": "stream",
     "text": [
      "START: Agent Training #0\n",
      "START: Agent Training @ Epoch #0\n"
     ]
    },
    {
     "name": "stderr",
     "output_type": "stream",
     "text": [
      "Users: 100%|██████████| 1000/1000 [00:17<00:00, 55.71it/s]\n",
      "Organic Users: 0it [00:00, ?it/s]\n",
      "Users:   1%|          | 6/1000 [00:00<00:19, 50.78it/s]"
     ]
    },
    {
     "name": "stdout",
     "output_type": "stream",
     "text": [
      "END: Agent Training @ Epoch #0 (18.028911113739014s)\n",
      "START: Agent Evaluating @ Epoch #0\n"
     ]
    },
    {
     "name": "stderr",
     "output_type": "stream",
     "text": [
      "Users: 100%|██████████| 1000/1000 [00:17<00:00, 56.49it/s]\n"
     ]
    },
    {
     "name": "stdout",
     "output_type": "stream",
     "text": [
      "END: Agent Evaluating @ Epoch #0 (17.830379009246826s)\n"
     ]
    },
    {
     "data": {
      "text/plain": [
       "(0.013248668258846727, 0.012445367661335893, 0.014085341416770314)"
      ]
     },
     "execution_count": 8,
     "metadata": {},
     "output_type": "execute_result"
    }
   ],
   "source": [
    "# Credible interval of the CTR median and 0.025 0.975 quantile.\n",
    "recogym.test_agent(\n",
    "    deepcopy(env),\n",
    "    deepcopy(popularity_agent),\n",
    "    num_offline_users=1000,\n",
    "    num_online_users=1000\n",
    ")"
   ]
  },
  {
   "cell_type": "markdown",
   "metadata": {},
   "source": [
    "We see an improvement in the click-through rate for the popularity agent."
   ]
  }
 ],
 "metadata": {
  "kernelspec": {
   "display_name": "Python 3",
   "language": "python",
   "name": "python3"
  },
  "language_info": {
   "codemirror_mode": {
    "name": "ipython",
    "version": 3
   },
   "file_extension": ".py",
   "mimetype": "text/x-python",
   "name": "python",
   "nbconvert_exporter": "python",
   "pygments_lexer": "ipython3",
   "version": "3.6.9"
  }
 },
 "nbformat": 4,
 "nbformat_minor": 2
}
