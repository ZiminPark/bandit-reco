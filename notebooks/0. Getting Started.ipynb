{
  "nbformat": 4,
  "nbformat_minor": 0,
  "metadata": {
    "kernelspec": {
      "display_name": "Python 3",
      "language": "python",
      "name": "python3"
    },
    "language_info": {
      "codemirror_mode": {
        "name": "ipython",
        "version": 3
      },
      "file_extension": ".py",
      "mimetype": "text/x-python",
      "name": "python",
      "nbconvert_exporter": "python",
      "pygments_lexer": "ipython3",
      "version": "3.6.3"
    },
    "colab": {
      "name": "0. Getting Started.ipynb",
      "provenance": [],
      "include_colab_link": true
    }
  },
  "cells": [
    {
      "cell_type": "markdown",
      "metadata": {
        "id": "view-in-github",
        "colab_type": "text"
      },
      "source": [
        "<a href=\"https://colab.research.google.com/github/ZiminPark/bandit-reco/blob/master/notebooks/0.%20Getting%20Started.ipynb\" target=\"_parent\"><img src=\"https://colab.research.google.com/assets/colab-badge.svg\" alt=\"Open In Colab\"/></a>"
      ]
    },
    {
      "cell_type": "code",
      "metadata": {
        "id": "bWmmhpKtDaDh"
      },
      "source": [
        "!pip install recogym"
      ],
      "execution_count": 1,
      "outputs": []
    },
    {
      "cell_type": "markdown",
      "metadata": {
        "id": "fMt1yeoHDaDh"
      },
      "source": [
        "## In this notebook\n",
        "\n",
        "-  a simple recommendation agent that **suggests an item in proportion to how many times it has been viewed**. "
      ]
    },
    {
      "cell_type": "markdown",
      "metadata": {
        "id": "tJ0WSc_xDaDh"
      },
      "source": [
        "## Reinforcement Learning Setup\n",
        "\n",
        "RecoGym follows the usual reinforcement learning setup.  It means there are interactions between the environment (the user's behavior) and the agent (our recommendation algorithm).  The agent receives a reward if the user clicks on the recommendation."
      ]
    },
    {
      "cell_type": "markdown",
      "metadata": {
        "id": "147cusrsDaDh"
      },
      "source": [
        "<img src=\"https://github.com/ZiminPark/bandit-reco/blob/master/notebooks/images/rl-setup.png?raw=1\" alt=\"Drawing\" style=\"width: 600px;\"/>"
      ]
    },
    {
      "cell_type": "markdown",
      "metadata": {
        "id": "X_H1djTJDaDh"
      },
      "source": [
        "## Organic and Bandit\n",
        "\n",
        "Even though our focus is biased towards online advertising, we tried to make RecoGym universal to all types of recommendation.  Hence, we introduce the domain-agnostic terms _Organic_ and _Bandit_ sessions.  An _Organic_ session is an observation of items the user interacts with.  For example, it could be views of products on an e-commerce website, listens to songs while streaming music, or readings of articles on an online newspaper.  A _Bandit_ session is one where we have an opportunity to recommend the user an item and observe their behavior.  We receive a reward if they click.\n",
        "\n",
        "<img src=\"https://github.com/ZiminPark/bandit-reco/blob/master/notebooks/images/organic-bandit.png?raw=1\" alt=\"Drawing\" style=\"width: 450px;\"/>"
      ]
    },
    {
      "cell_type": "markdown",
      "metadata": {
        "id": "0F2YNvlpDaDh"
      },
      "source": [
        "## Offline and Online Learning\n",
        "\n",
        "This project was born out of a desire to improve Criteo's recommendation system by exploring reinforcement learning algorithms. We quickly realized that we couldn't just blindly apply RL algorithms in a production system out of the box. The learning period would be too costly. Instead, we need to leverage the vast amounts of offline training examples we already to make the algorithm perform as good as the current system before releasing it into the online production environment.\n",
        "\n",
        "Thus, RecoGym follows a similar flow. An agent is first given access to many offline training examples produced from a fixed policy. Then, they have access to the online system where they choose the actions."
      ]
    },
    {
      "cell_type": "markdown",
      "metadata": {
        "id": "_x0_yDUyDaDh"
      },
      "source": [
        "<img src=\"https://github.com/ZiminPark/bandit-reco/blob/master/notebooks/images/two-steps.png?raw=1\" alt=\"Drawing\" style=\"width: 450px;\"/>"
      ]
    },
    {
      "cell_type": "markdown",
      "metadata": {
        "id": "rnqqyW6PDaDi"
      },
      "source": [
        "## Let's see some code - Interacting with the environment \n",
        "\n",
        "\n",
        "The code snippet below shows how to initialize the environment and step through in an 'offline' manner (Here offline means that the environment is generating some recommendations for us).  We print out the results from the environment at each step."
      ]
    },
    {
      "cell_type": "markdown",
      "metadata": {
        "id": "4Blq14poDaDi"
      },
      "source": [
        "### World creation"
      ]
    },
    {
      "cell_type": "code",
      "metadata": {
        "id": "6GqjZJTNDaDi"
      },
      "source": [
        "import gym, recogym\n",
        "from copy import deepcopy"
      ],
      "execution_count": null,
      "outputs": []
    },
    {
      "cell_type": "code",
      "metadata": {
        "id": "6IQnDfI7DaDi"
      },
      "source": [
        "# env_1_args is a dictionary of default parameters that defines the simulated world (such as user behavior, number of products, etc.).\n",
        "from recogym import env_1_args, Configuration\n",
        "\n",
        "# You can overwrite environment arguments here:\n",
        "env_1_args['random_seed'] = 42\n",
        "\n",
        "# Initialize the gym for the first time by calling .make() and .init_gym()\n",
        "env = gym.make('reco-gym-v1')\n",
        "env.init_gym(env_1_args)\n",
        "\n",
        "# .reset() env before each episode (one episode per user).\n",
        "env.reset()"
      ],
      "execution_count": null,
      "outputs": []
    },
    {
      "cell_type": "markdown",
      "metadata": {
        "id": "xRA_vktkDaDi"
      },
      "source": [
        "### Act on the environment\n",
        "We will now choose the product to recommend, and _hope_ for a click from the user.\n",
        "For our first agent we will hardcode the actions taken."
      ]
    },
    {
      "cell_type": "code",
      "metadata": {
        "id": "yL420I62DaDi",
        "outputId": "8b00f510-060f-45de-b491-ed456f69eb5e"
      },
      "source": [
        "# Create a list of hard coded actions.\n",
        "actions = [None] + [1, 2, 3, 4, 5]\n",
        "\n",
        "# Reset the environment and set Done to False.\n",
        "env.reset()\n",
        "done = False\n",
        "\n",
        "# Counting how many steps.\n",
        "i = 0\n",
        "\n",
        "while not done and i < len(actions):\n",
        "    action = actions[i]\n",
        "    observation, reward, done, info = env.step(action)\n",
        "    print(f\"Step: {i} - Action: {action} - Observation: {observation.sessions()} - Reward: {reward}\")\n",
        "    i += 1"
      ],
      "execution_count": null,
      "outputs": [
        {
          "output_type": "stream",
          "text": [
            "Step: 0 - Action: None - Observation: [{'t': 0, 'u': 0, 'z': 'pageview', 'v': 1}, {'t': 1, 'u': 0, 'z': 'pageview', 'v': 4}, {'t': 2, 'u': 0, 'z': 'pageview', 'v': 4}, {'t': 3, 'u': 0, 'z': 'pageview', 'v': 1}, {'t': 4, 'u': 0, 'z': 'pageview', 'v': 4}, {'t': 5, 'u': 0, 'z': 'pageview', 'v': 9}, {'t': 6, 'u': 0, 'z': 'pageview', 'v': 1}] - Reward: None\n",
            "Step: 1 - Action: 1 - Observation: [] - Reward: 0\n",
            "Step: 2 - Action: 2 - Observation: [] - Reward: 0\n",
            "Step: 3 - Action: 3 - Observation: [] - Reward: 0\n",
            "Step: 4 - Action: 4 - Observation: [] - Reward: 0\n",
            "Step: 5 - Action: 5 - Observation: [] - Reward: 0\n"
          ],
          "name": "stdout"
        }
      ]
    },
    {
      "cell_type": "markdown",
      "metadata": {
        "id": "j5P_MkvoDaDi"
      },
      "source": [
        "Okay, there's quite a bit going on here:  \n",
        "- `Action`\n",
        "   * `t` is the timestep (always incremented), it won't be useful today\n",
        "   * `u` is the user id, as we have one user, for now, it's always 0\n",
        "   * `a` is a number between `0` and `num_products - 1` that references the index of the product recommended.\n",
        "   * `ps` is the propensity score or the probability that the agent assigned to this action\n",
        "   * `ps-a` are the probabilities assigned to all actions by the agent (we can see that it's uniform for now: the agent randomly selects the recommended product)\n",
        "- `observation` will either be `None` or a session of Organic data, showing the index of products the user views.\n",
        "   * `t`, `u` have the same meaning as above\n",
        "   * `z` in the type of event (always pageview for now)\n",
        "   * `v` is the index of the viewed product\n",
        "- `reward` is `0` if the user does not click on the recommended product and `1` if they do.  Notice that when a user clicks on a product (Wherever the reward is `1`), they start a new Organic session.\n",
        "- `done` is a True/False flag indicating if the episode (aka user's timeline) is over.  \n",
        "\n",
        "Also, notice that the first `action` is `None`.  In our implementation, the agent observes Organic behavior before recommending anything."
      ]
    },
    {
      "cell_type": "markdown",
      "metadata": {
        "id": "SCGTkfPEDaDi"
      },
      "source": [
        "## Creating our first agent\n",
        "\n",
        "Now that we have seen how the offline and online versions of the environment work, it is time to code our first recommendation agent!  Technically, an agent can be anything that produces actions for the environment to use.  However, we will show you the object-oriented way we like to create agents.\n",
        "\n",
        "Below is the code for a very simple agent - the _best of_ agent. The _best of_ agent records merely how many times each product has been seen organically, then when required to make a recommendation, the agent chooses a product randomly in proportion with a number of times it has been viewed overall."
      ]
    },
    {
      "cell_type": "code",
      "metadata": {
        "id": "lLydgBreDaDi"
      },
      "source": [
        "import numpy as np\n",
        "from recogym.agents import Agent\n",
        "\n",
        "# Define an Agent class.\n",
        "class BestOfAgent(Agent):\n",
        "    def __init__(self, config):\n",
        "        # Set number of products as an attribute of the Agent.\n",
        "        Agent.__init__(self, config)\n",
        "\n",
        "        # Track number of times each item viewed in the organic sessions.\n",
        "        self.organic_views = np.zeros(self.config.num_products)\n",
        "\n",
        "    def train(self, observation, action, reward, done):\n",
        "        \"\"\"Train method learns from a tuple of data.\n",
        "        this method can be called for offline or online learning\n",
        "        \"\"\"\n",
        "        # Adding organic session to organic view counts.\n",
        "        if observation:\n",
        "            for session in observation.sessions():\n",
        "                viewed_item_index = session['v']\n",
        "                self.organic_views[viewed_item_index] += 1\n",
        "\n",
        "    def act(self, observation, reward, done):\n",
        "        \"\"\"Act method returns an action based on current observation and past\n",
        "        history\n",
        "        \"\"\"\n",
        "        # Choosing action randomly in proportion with number of views.\n",
        "        probabilities = self.organic_views / np.sum(self.organic_views)\n",
        "        action = np.random.choice(self.config.num_products, p=probabilities)\n",
        "        \n",
        "        return {\n",
        "            **super().act(observation, reward, done),\n",
        "            **{\n",
        "                'a': action,\n",
        "                'ps': probabilities[action],\n",
        "                'ps-a': probabilities,\n",
        "            }\n",
        "        }"
      ],
      "execution_count": null,
      "outputs": []
    },
    {
      "cell_type": "markdown",
      "metadata": {
        "id": "Exa_kiTJDaDj"
      },
      "source": [
        "The `BestOfAgent` class above demonstrates our preferred way to create agents for RecoGym. Notice how we have both a `train` and `act` method present. The `train` method is designed to take in training data from the environments `step_offline` method and thus has nothing to return, while the `act` method must return an action to pass back into the environment. \n",
        "\n",
        "The code below highlights how one would use this agent for first offline training and then using the learned knowledge to make recommendations online."
      ]
    },
    {
      "cell_type": "code",
      "metadata": {
        "id": "jLgbWCLHDaDj",
        "outputId": "6f3e2076-28e0-4910-f128-72bed8812109"
      },
      "source": [
        "# Instantiate instance of PopularityAgent class.\n",
        "num_products = 10\n",
        "agent = BestOfAgent(Configuration({\n",
        "    **env_1_args,\n",
        "    'num_products': num_products,\n",
        "}))\n",
        "\n",
        "# Resets random seed back to 42, or whatever we set it to in env_0_args.\n",
        "env.reset_random_seed()\n",
        "\n",
        "# Train on 1000 users offline.\n",
        "num_offline_users = 1000\n",
        "\n",
        "for _ in range(num_offline_users):\n",
        "\n",
        "    # Reset env and set done to False.\n",
        "    env.reset()\n",
        "    done = False\n",
        "\n",
        "    observation, reward, done = None, 0, False\n",
        "    while not done:\n",
        "        old_observation = observation\n",
        "        action, observation, reward, done, info = env.step_offline(observation, reward, done)\n",
        "        agent.train(old_observation, action, reward, done)\n",
        "\n",
        "# Train on 100 users online and track click through rate.\n",
        "num_online_users = 100\n",
        "num_clicks, num_events = 0, 0\n",
        "\n",
        "for _ in range(num_online_users):\n",
        "\n",
        "    # Reset env and set done to False.\n",
        "    env.reset()\n",
        "    observation, _, done, _ = env.step(None)\n",
        "    reward = None\n",
        "    done = None\n",
        "    while not done:\n",
        "        action = agent.act(observation, reward, done)\n",
        "        observation, reward, done, info = env.step(action['a'])\n",
        "\n",
        "        # Used for calculating click through rate.\n",
        "        num_clicks += 1 if reward == 1 else 0\n",
        "        num_events += 1\n",
        "\n",
        "ctr = num_clicks / num_events\n",
        "\n",
        "print(f\"Click Through Rate: {ctr:.4f}\")"
      ],
      "execution_count": null,
      "outputs": [
        {
          "output_type": "stream",
          "text": [
            "Click Through Rate: 0.0142\n"
          ],
          "name": "stdout"
        }
      ]
    },
    {
      "cell_type": "markdown",
      "metadata": {
        "id": "yTXKnE_TDaDj"
      },
      "source": [
        "## Testing our first agent\n",
        "\n",
        "Now we have created our popularity based agent, and we should test it against an even simpler baseline - one that performs no learning and recommends products uniformly at random. To do this, we will first load a more complex version of the toy data environment called `reco-gym-v1`.\n",
        "\n",
        "Next, we will load another agent for our agent to compete against each other. Here you can see we make use of the `RandomAgent` and create an instance of it in addition to our `BestOfAgent`."
      ]
    },
    {
      "cell_type": "code",
      "metadata": {
        "id": "YJJZC8UHDaDj"
      },
      "source": [
        "import gym, recogym\n",
        "from recogym import env_1_args\n",
        "from recogym.agents import RandomAgent, random_args\n",
        "\n",
        "from copy import deepcopy\n",
        "\n",
        "env_1_args['random_seed'] = 42\n",
        "\n",
        "env_1 = gym.make('reco-gym-v1')\n",
        "env_1.init_gym(env_1_args)\n",
        "\n",
        "# Create the two agents.\n",
        "num_products = env_1_args['num_products']\n",
        "\n",
        "best_of_agent = BestOfAgent(Configuration(env_1_args))\n",
        "random_agent = RandomAgent(Configuration({\n",
        "    **env_1_args,\n",
        "    **random_args,\n",
        "}))"
      ],
      "execution_count": null,
      "outputs": []
    },
    {
      "cell_type": "markdown",
      "metadata": {
        "id": "kyMKCQkUDaDj"
      },
      "source": [
        "Now we have instances of our two agents. We can use the `test_agent` method from RecoGym and compare their performance.\n",
        "\n",
        "To use `test_agent`, one must provide a copy of the current env, a copy of the agent class, the number of training users, and the number of testing users. "
      ]
    },
    {
      "cell_type": "code",
      "metadata": {
        "id": "rbITkmXXDaDj",
        "outputId": "133921a6-bf16-4681-b354-5bea06f9e77d"
      },
      "source": [
        "# Confidence interval of the CTR median and 0.025 0.975 quantile.\n",
        "random_agent_results = recogym.test_agent(\n",
        "    deepcopy(env_1),\n",
        "    deepcopy(random_agent),\n",
        "    num_offline_users=1000,\n",
        "    num_online_users=1000\n",
        ")\n",
        "median_random_agent, lower_bound_random_agent, upper_bound_random_agent = random_agent_results"
      ],
      "execution_count": null,
      "outputs": [
        {
          "output_type": "stream",
          "text": [
            "Start: Agent Training #0\n",
            "Start: Agent Testing #0\n"
          ],
          "name": "stdout"
        }
      ]
    },
    {
      "cell_type": "code",
      "metadata": {
        "id": "J6OuEdjXDaDj"
      },
      "source": [
        "# Confidence interval of the CTR median and 0.025 0.975 quantile.\n",
        "bestof_agent_results = recogym.test_agent(\n",
        "    deepcopy(env),\n",
        "    deepcopy(best_of_agent),\n",
        "    num_offline_users=1000,\n",
        "    num_online_users=1000\n",
        ")\n",
        "median_bestof_agent, lower_bound_bestof_agent, upper_bound_bestof_agent = bestof_agent_results"
      ],
      "execution_count": null,
      "outputs": []
    },
    {
      "cell_type": "code",
      "metadata": {
        "id": "PlnDnVTSDaDj"
      },
      "source": [
        "print(f'Random agent CTR  = {median_random_agent:.4f} ({lower_bound_random_agent:.4f}, {upper_bound_random_agent:.4f})')\n",
        "print(f'Best of agent CTR = {median_bestof_agent:.4f} ({lower_bound_bestof_agent:.4f}, {upper_bound_bestof_agent:.4f})')"
      ],
      "execution_count": null,
      "outputs": []
    },
    {
      "cell_type": "markdown",
      "metadata": {
        "id": "uZX7ByUUDaDj"
      },
      "source": [
        "We see an improvement in the click-through rate for an agent as simple as the best of agent."
      ]
    },
    {
      "cell_type": "code",
      "metadata": {
        "id": "0a-xT5spDaDj"
      },
      "source": [
        ""
      ],
      "execution_count": null,
      "outputs": []
    }
  ]
}