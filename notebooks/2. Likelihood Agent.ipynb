{
  "nbformat": 4,
  "nbformat_minor": 0,
  "metadata": {
    "kernelspec": {
      "display_name": "Python 3",
      "language": "python",
      "name": "python3"
    },
    "language_info": {
      "codemirror_mode": {
        "name": "ipython",
        "version": 3
      },
      "file_extension": ".py",
      "mimetype": "text/x-python",
      "name": "python",
      "nbconvert_exporter": "python",
      "pygments_lexer": "ipython3",
      "version": "3.6.9"
    },
    "colab": {
      "name": "2. Likelihood Agent.ipynb",
      "provenance": [],
      "include_colab_link": true
    }
  },
  "cells": [
    {
      "cell_type": "markdown",
      "metadata": {
        "id": "view-in-github",
        "colab_type": "text"
      },
      "source": [
        "<a href=\"https://colab.research.google.com/github/ZiminPark/bandit-reco/blob/master/notebooks/2.%20Likelihood%20Agent.ipynb\" target=\"_parent\"><img src=\"https://colab.research.google.com/assets/colab-badge.svg\" alt=\"Open In Colab\"/></a>"
      ]
    },
    {
      "cell_type": "code",
      "metadata": {
        "id": "rwACohRmiDIm",
        "outputId": "4f92a01b-e29a-4078-c27f-0322c70c8c70",
        "colab": {
          "base_uri": "https://localhost:8080/"
        }
      },
      "source": [
        "!pip install recogym"
      ],
      "execution_count": 1,
      "outputs": [
        {
          "output_type": "stream",
          "text": [
            "Collecting recogym\n",
            "\u001b[?25l  Downloading https://files.pythonhosted.org/packages/25/d1/18bc332726ca043508ad13266bc3709265cffdc6dba016bd592f7a48ba67/recogym-0.1.3.0-py3-none-any.whl (58kB)\n",
            "\r\u001b[K     |█████▋                          | 10kB 12.6MB/s eta 0:00:01\r\u001b[K     |███████████▎                    | 20kB 10.1MB/s eta 0:00:01\r\u001b[K     |████████████████▉               | 30kB 9.7MB/s eta 0:00:01\r\u001b[K     |██████████████████████▌         | 40kB 8.5MB/s eta 0:00:01\r\u001b[K     |████████████████████████████    | 51kB 5.3MB/s eta 0:00:01\r\u001b[K     |████████████████████████████████| 61kB 3.5MB/s \n",
            "\u001b[?25hRequirement already satisfied: absl-py in /usr/local/lib/python3.6/dist-packages (from recogym) (0.10.0)\n",
            "Requirement already satisfied: pandas in /usr/local/lib/python3.6/dist-packages (from recogym) (1.1.5)\n",
            "Requirement already satisfied: jupyter in /usr/local/lib/python3.6/dist-packages (from recogym) (1.0.0)\n",
            "Requirement already satisfied: scikit-learn in /usr/local/lib/python3.6/dist-packages (from recogym) (0.22.2.post1)\n",
            "Requirement already satisfied: scipy in /usr/local/lib/python3.6/dist-packages (from recogym) (1.4.1)\n",
            "Requirement already satisfied: torch in /usr/local/lib/python3.6/dist-packages (from recogym) (1.7.0+cu101)\n",
            "Requirement already satisfied: tensorflow in /usr/local/lib/python3.6/dist-packages (from recogym) (2.4.1)\n",
            "Requirement already satisfied: numba in /usr/local/lib/python3.6/dist-packages (from recogym) (0.51.2)\n",
            "Requirement already satisfied: simplegeneric in /usr/local/lib/python3.6/dist-packages (from recogym) (0.8.1)\n",
            "Requirement already satisfied: numpy in /usr/local/lib/python3.6/dist-packages (from recogym) (1.19.5)\n",
            "Collecting datetime\n",
            "\u001b[?25l  Downloading https://files.pythonhosted.org/packages/73/22/a5297f3a1f92468cc737f8ce7ba6e5f245fcfafeae810ba37bd1039ea01c/DateTime-4.3-py2.py3-none-any.whl (60kB)\n",
            "\u001b[K     |████████████████████████████████| 61kB 6.6MB/s \n",
            "\u001b[?25hRequirement already satisfied: matplotlib in /usr/local/lib/python3.6/dist-packages (from recogym) (3.2.2)\n",
            "Requirement already satisfied: gym in /usr/local/lib/python3.6/dist-packages (from recogym) (0.17.3)\n",
            "Requirement already satisfied: tqdm in /usr/local/lib/python3.6/dist-packages (from recogym) (4.41.1)\n",
            "Requirement already satisfied: six in /usr/local/lib/python3.6/dist-packages (from absl-py->recogym) (1.15.0)\n",
            "Requirement already satisfied: pytz>=2017.2 in /usr/local/lib/python3.6/dist-packages (from pandas->recogym) (2018.9)\n",
            "Requirement already satisfied: python-dateutil>=2.7.3 in /usr/local/lib/python3.6/dist-packages (from pandas->recogym) (2.8.1)\n",
            "Requirement already satisfied: ipykernel in /usr/local/lib/python3.6/dist-packages (from jupyter->recogym) (4.10.1)\n",
            "Requirement already satisfied: jupyter-console in /usr/local/lib/python3.6/dist-packages (from jupyter->recogym) (5.2.0)\n",
            "Requirement already satisfied: qtconsole in /usr/local/lib/python3.6/dist-packages (from jupyter->recogym) (5.0.2)\n",
            "Requirement already satisfied: notebook in /usr/local/lib/python3.6/dist-packages (from jupyter->recogym) (5.3.1)\n",
            "Requirement already satisfied: nbconvert in /usr/local/lib/python3.6/dist-packages (from jupyter->recogym) (5.6.1)\n",
            "Requirement already satisfied: ipywidgets in /usr/local/lib/python3.6/dist-packages (from jupyter->recogym) (7.6.3)\n",
            "Requirement already satisfied: joblib>=0.11 in /usr/local/lib/python3.6/dist-packages (from scikit-learn->recogym) (1.0.0)\n",
            "Requirement already satisfied: typing-extensions in /usr/local/lib/python3.6/dist-packages (from torch->recogym) (3.7.4.3)\n",
            "Requirement already satisfied: future in /usr/local/lib/python3.6/dist-packages (from torch->recogym) (0.16.0)\n",
            "Requirement already satisfied: dataclasses in /usr/local/lib/python3.6/dist-packages (from torch->recogym) (0.8)\n",
            "Requirement already satisfied: wrapt~=1.12.1 in /usr/local/lib/python3.6/dist-packages (from tensorflow->recogym) (1.12.1)\n",
            "Requirement already satisfied: gast==0.3.3 in /usr/local/lib/python3.6/dist-packages (from tensorflow->recogym) (0.3.3)\n",
            "Requirement already satisfied: keras-preprocessing~=1.1.2 in /usr/local/lib/python3.6/dist-packages (from tensorflow->recogym) (1.1.2)\n",
            "Requirement already satisfied: tensorboard~=2.4 in /usr/local/lib/python3.6/dist-packages (from tensorflow->recogym) (2.4.1)\n",
            "Requirement already satisfied: flatbuffers~=1.12.0 in /usr/local/lib/python3.6/dist-packages (from tensorflow->recogym) (1.12)\n",
            "Requirement already satisfied: termcolor~=1.1.0 in /usr/local/lib/python3.6/dist-packages (from tensorflow->recogym) (1.1.0)\n",
            "Requirement already satisfied: astunparse~=1.6.3 in /usr/local/lib/python3.6/dist-packages (from tensorflow->recogym) (1.6.3)\n",
            "Requirement already satisfied: tensorflow-estimator<2.5.0,>=2.4.0 in /usr/local/lib/python3.6/dist-packages (from tensorflow->recogym) (2.4.0)\n",
            "Requirement already satisfied: google-pasta~=0.2 in /usr/local/lib/python3.6/dist-packages (from tensorflow->recogym) (0.2.0)\n",
            "Requirement already satisfied: grpcio~=1.32.0 in /usr/local/lib/python3.6/dist-packages (from tensorflow->recogym) (1.32.0)\n",
            "Requirement already satisfied: wheel~=0.35 in /usr/local/lib/python3.6/dist-packages (from tensorflow->recogym) (0.36.2)\n",
            "Requirement already satisfied: opt-einsum~=3.3.0 in /usr/local/lib/python3.6/dist-packages (from tensorflow->recogym) (3.3.0)\n",
            "Requirement already satisfied: h5py~=2.10.0 in /usr/local/lib/python3.6/dist-packages (from tensorflow->recogym) (2.10.0)\n",
            "Requirement already satisfied: protobuf>=3.9.2 in /usr/local/lib/python3.6/dist-packages (from tensorflow->recogym) (3.12.4)\n",
            "Requirement already satisfied: setuptools in /usr/local/lib/python3.6/dist-packages (from numba->recogym) (51.3.3)\n",
            "Requirement already satisfied: llvmlite<0.35,>=0.34.0.dev0 in /usr/local/lib/python3.6/dist-packages (from numba->recogym) (0.34.0)\n",
            "Collecting zope.interface\n",
            "\u001b[?25l  Downloading https://files.pythonhosted.org/packages/82/b0/da8afd9b3bd50c7665ecdac062f182982af1173c9081f9af7261091c5588/zope.interface-5.2.0-cp36-cp36m-manylinux2010_x86_64.whl (236kB)\n",
            "\u001b[K     |████████████████████████████████| 245kB 21.9MB/s \n",
            "\u001b[?25hRequirement already satisfied: kiwisolver>=1.0.1 in /usr/local/lib/python3.6/dist-packages (from matplotlib->recogym) (1.3.1)\n",
            "Requirement already satisfied: pyparsing!=2.0.4,!=2.1.2,!=2.1.6,>=2.0.1 in /usr/local/lib/python3.6/dist-packages (from matplotlib->recogym) (2.4.7)\n",
            "Requirement already satisfied: cycler>=0.10 in /usr/local/lib/python3.6/dist-packages (from matplotlib->recogym) (0.10.0)\n",
            "Requirement already satisfied: pyglet<=1.5.0,>=1.4.0 in /usr/local/lib/python3.6/dist-packages (from gym->recogym) (1.5.0)\n",
            "Requirement already satisfied: cloudpickle<1.7.0,>=1.2.0 in /usr/local/lib/python3.6/dist-packages (from gym->recogym) (1.3.0)\n",
            "Requirement already satisfied: ipython>=4.0.0 in /usr/local/lib/python3.6/dist-packages (from ipykernel->jupyter->recogym) (5.5.0)\n",
            "Requirement already satisfied: jupyter-client in /usr/local/lib/python3.6/dist-packages (from ipykernel->jupyter->recogym) (5.3.5)\n",
            "Requirement already satisfied: tornado>=4.0 in /usr/local/lib/python3.6/dist-packages (from ipykernel->jupyter->recogym) (5.1.1)\n",
            "Requirement already satisfied: traitlets>=4.1.0 in /usr/local/lib/python3.6/dist-packages (from ipykernel->jupyter->recogym) (4.3.3)\n",
            "Requirement already satisfied: prompt-toolkit<2.0.0,>=1.0.0 in /usr/local/lib/python3.6/dist-packages (from jupyter-console->jupyter->recogym) (1.0.18)\n",
            "Requirement already satisfied: pygments in /usr/local/lib/python3.6/dist-packages (from jupyter-console->jupyter->recogym) (2.6.1)\n",
            "Requirement already satisfied: ipython-genutils in /usr/local/lib/python3.6/dist-packages (from qtconsole->jupyter->recogym) (0.2.0)\n",
            "Requirement already satisfied: qtpy in /usr/local/lib/python3.6/dist-packages (from qtconsole->jupyter->recogym) (1.9.0)\n",
            "Requirement already satisfied: pyzmq>=17.1 in /usr/local/lib/python3.6/dist-packages (from qtconsole->jupyter->recogym) (21.0.2)\n",
            "Requirement already satisfied: jupyter-core in /usr/local/lib/python3.6/dist-packages (from qtconsole->jupyter->recogym) (4.7.0)\n",
            "Requirement already satisfied: jinja2 in /usr/local/lib/python3.6/dist-packages (from notebook->jupyter->recogym) (2.11.2)\n",
            "Requirement already satisfied: Send2Trash in /usr/local/lib/python3.6/dist-packages (from notebook->jupyter->recogym) (1.5.0)\n",
            "Requirement already satisfied: nbformat in /usr/local/lib/python3.6/dist-packages (from notebook->jupyter->recogym) (5.1.2)\n",
            "Requirement already satisfied: terminado>=0.8.1 in /usr/local/lib/python3.6/dist-packages (from notebook->jupyter->recogym) (0.9.2)\n",
            "Requirement already satisfied: entrypoints>=0.2.2 in /usr/local/lib/python3.6/dist-packages (from nbconvert->jupyter->recogym) (0.3)\n",
            "Requirement already satisfied: defusedxml in /usr/local/lib/python3.6/dist-packages (from nbconvert->jupyter->recogym) (0.6.0)\n",
            "Requirement already satisfied: testpath in /usr/local/lib/python3.6/dist-packages (from nbconvert->jupyter->recogym) (0.4.4)\n",
            "Requirement already satisfied: bleach in /usr/local/lib/python3.6/dist-packages (from nbconvert->jupyter->recogym) (3.2.3)\n",
            "Requirement already satisfied: mistune<2,>=0.8.1 in /usr/local/lib/python3.6/dist-packages (from nbconvert->jupyter->recogym) (0.8.4)\n",
            "Requirement already satisfied: pandocfilters>=1.4.1 in /usr/local/lib/python3.6/dist-packages (from nbconvert->jupyter->recogym) (1.4.3)\n",
            "Requirement already satisfied: widgetsnbextension~=3.5.0 in /usr/local/lib/python3.6/dist-packages (from ipywidgets->jupyter->recogym) (3.5.1)\n",
            "Requirement already satisfied: jupyterlab-widgets>=1.0.0; python_version >= \"3.6\" in /usr/local/lib/python3.6/dist-packages (from ipywidgets->jupyter->recogym) (1.0.0)\n",
            "Requirement already satisfied: tensorboard-plugin-wit>=1.6.0 in /usr/local/lib/python3.6/dist-packages (from tensorboard~=2.4->tensorflow->recogym) (1.8.0)\n",
            "Requirement already satisfied: werkzeug>=0.11.15 in /usr/local/lib/python3.6/dist-packages (from tensorboard~=2.4->tensorflow->recogym) (1.0.1)\n",
            "Requirement already satisfied: requests<3,>=2.21.0 in /usr/local/lib/python3.6/dist-packages (from tensorboard~=2.4->tensorflow->recogym) (2.23.0)\n",
            "Requirement already satisfied: google-auth<2,>=1.6.3 in /usr/local/lib/python3.6/dist-packages (from tensorboard~=2.4->tensorflow->recogym) (1.17.2)\n",
            "Requirement already satisfied: markdown>=2.6.8 in /usr/local/lib/python3.6/dist-packages (from tensorboard~=2.4->tensorflow->recogym) (3.3.3)\n",
            "Requirement already satisfied: google-auth-oauthlib<0.5,>=0.4.1 in /usr/local/lib/python3.6/dist-packages (from tensorboard~=2.4->tensorflow->recogym) (0.4.2)\n",
            "Requirement already satisfied: pickleshare in /usr/local/lib/python3.6/dist-packages (from ipython>=4.0.0->ipykernel->jupyter->recogym) (0.7.5)\n",
            "Requirement already satisfied: decorator in /usr/local/lib/python3.6/dist-packages (from ipython>=4.0.0->ipykernel->jupyter->recogym) (4.4.2)\n",
            "Requirement already satisfied: pexpect; sys_platform != \"win32\" in /usr/local/lib/python3.6/dist-packages (from ipython>=4.0.0->ipykernel->jupyter->recogym) (4.8.0)\n",
            "Requirement already satisfied: wcwidth in /usr/local/lib/python3.6/dist-packages (from prompt-toolkit<2.0.0,>=1.0.0->jupyter-console->jupyter->recogym) (0.2.5)\n",
            "Requirement already satisfied: MarkupSafe>=0.23 in /usr/local/lib/python3.6/dist-packages (from jinja2->notebook->jupyter->recogym) (1.1.1)\n",
            "Requirement already satisfied: jsonschema!=2.5.0,>=2.4 in /usr/local/lib/python3.6/dist-packages (from nbformat->notebook->jupyter->recogym) (2.6.0)\n",
            "Requirement already satisfied: ptyprocess; os_name != \"nt\" in /usr/local/lib/python3.6/dist-packages (from terminado>=0.8.1->notebook->jupyter->recogym) (0.7.0)\n",
            "Requirement already satisfied: webencodings in /usr/local/lib/python3.6/dist-packages (from bleach->nbconvert->jupyter->recogym) (0.5.1)\n",
            "Requirement already satisfied: packaging in /usr/local/lib/python3.6/dist-packages (from bleach->nbconvert->jupyter->recogym) (20.8)\n",
            "Requirement already satisfied: idna<3,>=2.5 in /usr/local/lib/python3.6/dist-packages (from requests<3,>=2.21.0->tensorboard~=2.4->tensorflow->recogym) (2.10)\n",
            "Requirement already satisfied: urllib3!=1.25.0,!=1.25.1,<1.26,>=1.21.1 in /usr/local/lib/python3.6/dist-packages (from requests<3,>=2.21.0->tensorboard~=2.4->tensorflow->recogym) (1.24.3)\n",
            "Requirement already satisfied: chardet<4,>=3.0.2 in /usr/local/lib/python3.6/dist-packages (from requests<3,>=2.21.0->tensorboard~=2.4->tensorflow->recogym) (3.0.4)\n",
            "Requirement already satisfied: certifi>=2017.4.17 in /usr/local/lib/python3.6/dist-packages (from requests<3,>=2.21.0->tensorboard~=2.4->tensorflow->recogym) (2020.12.5)\n",
            "Requirement already satisfied: rsa<5,>=3.1.4; python_version >= \"3\" in /usr/local/lib/python3.6/dist-packages (from google-auth<2,>=1.6.3->tensorboard~=2.4->tensorflow->recogym) (4.7)\n",
            "Requirement already satisfied: cachetools<5.0,>=2.0.0 in /usr/local/lib/python3.6/dist-packages (from google-auth<2,>=1.6.3->tensorboard~=2.4->tensorflow->recogym) (4.2.1)\n",
            "Requirement already satisfied: pyasn1-modules>=0.2.1 in /usr/local/lib/python3.6/dist-packages (from google-auth<2,>=1.6.3->tensorboard~=2.4->tensorflow->recogym) (0.2.8)\n",
            "Requirement already satisfied: importlib-metadata; python_version < \"3.8\" in /usr/local/lib/python3.6/dist-packages (from markdown>=2.6.8->tensorboard~=2.4->tensorflow->recogym) (3.4.0)\n",
            "Requirement already satisfied: requests-oauthlib>=0.7.0 in /usr/local/lib/python3.6/dist-packages (from google-auth-oauthlib<0.5,>=0.4.1->tensorboard~=2.4->tensorflow->recogym) (1.3.0)\n",
            "Requirement already satisfied: pyasn1>=0.1.3 in /usr/local/lib/python3.6/dist-packages (from rsa<5,>=3.1.4; python_version >= \"3\"->google-auth<2,>=1.6.3->tensorboard~=2.4->tensorflow->recogym) (0.4.8)\n",
            "Requirement already satisfied: zipp>=0.5 in /usr/local/lib/python3.6/dist-packages (from importlib-metadata; python_version < \"3.8\"->markdown>=2.6.8->tensorboard~=2.4->tensorflow->recogym) (3.4.0)\n",
            "Requirement already satisfied: oauthlib>=3.0.0 in /usr/local/lib/python3.6/dist-packages (from requests-oauthlib>=0.7.0->google-auth-oauthlib<0.5,>=0.4.1->tensorboard~=2.4->tensorflow->recogym) (3.1.0)\n",
            "Installing collected packages: zope.interface, datetime, recogym\n",
            "Successfully installed datetime-4.3 recogym-0.1.3.0 zope.interface-5.2.0\n"
          ],
          "name": "stdout"
        }
      ]
    },
    {
      "cell_type": "markdown",
      "metadata": {
        "id": "6H37zXaHiDIr"
      },
      "source": [
        "# Likelihood-based models\n",
        "\n",
        "This notebook will outline the likelihood-based approach to training on Bandit feedback.\n",
        "\n",
        "Although before proceeding, we will study the output of the simulator in a little more detail."
      ]
    },
    {
      "cell_type": "code",
      "metadata": {
        "id": "FwBIJsqDiDIs"
      },
      "source": [
        "from numpy.random.mtrand import RandomState\n",
        "from recogym import Configuration\n",
        "from recogym.agents import Agent\n",
        "from sklearn.linear_model import LogisticRegression\n",
        "from recogym import verify_agents\n",
        "from recogym.agents import OrganicUserEventCounterAgent, organic_user_count_args\n",
        "from recogym.agents import RandomAgent, random_args\n",
        "from recogym.evaluate_agent import verify_agents, plot_verify_agents\n",
        "\n",
        "import gym, recogym\n",
        "from copy import deepcopy\n",
        "from recogym import env_1_args\n",
        "import matplotlib.pyplot as plt\n",
        "import numpy as np\n",
        "\n",
        "%matplotlib inline\n",
        "\n",
        "%config InlineBackend.figure_format = 'retina'\n",
        "plt.rcParams['figure.figsize'] = [6, 3]\n",
        "\n",
        "num_users = 1000\n",
        "\n",
        "env_1_args['number_of_flips'] = 0\n",
        "env_1_args['sigma_mu_organic'] = 0.0\n",
        "env_1_args['sigma_omega'] = 1\n",
        "env_1_args['random_seed'] = 42\n",
        "env_1_args['num_products'] = 10\n",
        "env_1_args['K'] = 5\n",
        "env_1_args['number_of_flips'] = 5\n",
        "\n",
        "env = gym.make('reco-gym-v1')\n",
        "env.init_gym(env_1_args)"
      ],
      "execution_count": 2,
      "outputs": []
    },
    {
      "cell_type": "code",
      "metadata": {
        "id": "Qa7XubICiDIs",
        "colab": {
          "base_uri": "https://localhost:8080/"
        },
        "outputId": "26e37c97-4c8d-4d9e-fd2e-e8e7d5e69db4"
      },
      "source": [
        "data = deepcopy(env).generate_logs(num_users)"
      ],
      "execution_count": 3,
      "outputs": [
        {
          "output_type": "stream",
          "text": [
            "Organic Users: 0it [00:00, ?it/s]\n",
            "Users: 100%|██████████| 1000/1000 [00:24<00:00, 41.17it/s]\n"
          ],
          "name": "stderr"
        }
      ]
    },
    {
      "cell_type": "markdown",
      "metadata": {
        "id": "UOPlifSsiDIs"
      },
      "source": [
        "# Logistic Regression Model\n",
        "\n",
        "## Turn Data into Features\n",
        "\n",
        "Now we are going to build a _Logistic Regression_ model.\n",
        "\n",
        "The model will predict _the probability of the click_ for the following data:\n",
        "* _`Views`_ is a total amount of views of a particular _`Product`_ shown during _Organic_ _`Events`_ **before** a _Bandit_ _`Event`_.\n",
        "* _`Action`_ is a proposed _`Product`_ at a _Bandit_ _`Event`_.\n",
        "\n",
        "For example, assume that we have _`10`_ products. In _Organic_ _`Events`_ , these products  were shown to a user as follows:\n",
        "\n",
        "| Product Id | 0 | 1 | 2 | 3 | 4 | 5 | 6 | 7 | 8  | 9 |\n",
        "|------------|---|---|---|---|---|---|---|---|----|---|\n",
        "| Views      | 0 | 0 | 0 | 7 | 0 | 0 | 0 | 8 | 11 | 0 |\n",
        "\n",
        "When we want to know the probability of the click for _`Product`_ = _`8`_ with available amounts of _`Views`_ , the input data for the model will be:\n",
        "\n",
        "$v = $_`0 0 0 7 0 0 0 8 11 0`_ and _**`8`**_\n",
        "\n",
        "The first `10` numbers are _`Views`_ of _`Products`_ (see above), the latest one is the _`Action`_.\n",
        "\n",
        "We will try to predict: $\\mathbb{P}(C|P=p, V)$ that is the probability of the click for a _`Product`_ $p$, provided that we have _`Views`_ $V$.\n",
        "\n",
        "We will encode _`Action`_ using a one-hot encoding.\n",
        "In our current example, the _`Action`_ is _`8`_. Thus, it is encoded as:\n",
        "\n",
        "_$a = $`0 0 0 0 0 0 0 0`_ _**`1`**_ _`0`_\n",
        "\n",
        "Here,\n",
        "* Vector of _`Actions`_ has a size that is equal to the _*number of `Products`*_ i.e., _`10`_.\n",
        "* _`Action`_ _`8`_ is marked as _`1`_ (_`Action`_ starts with _`0`_ ).\n",
        "\n",
        "Numerically, to fully describe the context $P=p, V$ that mixes the evaluated product and the products seen by the user, we do a Kronecker product of the two vectors $a$ and $v$. \n",
        "Namely, the vector used as features is the flattened version of the following $P \\times P$ matrix\n",
        "$$\n",
        "\\begin{pmatrix}\n",
        "\\cdots & 0      & \\cdots \\\\\n",
        "  & \\vdots & \\\\\n",
        "\\cdots & v & \\cdots \\\\\n",
        "  & \\vdots & \\\\\n",
        "\\cdots & 0      & \\cdots\n",
        "\\end{pmatrix}\n",
        "\\leftarrow \\text{ only the line corresponding the the action $p$ is non zero}\n",
        "$$"
      ]
    },
    {
      "cell_type": "code",
      "metadata": {
        "id": "rkfX3QhWiDIt"
      },
      "source": [
        "from recogym.agents import FeatureProvider\n",
        "\n",
        "class CountFeatureProvider(FeatureProvider):\n",
        "    \"\"\"Feature provider as an abstract class that defines interface of setting/getting features\"\"\"\n",
        "\n",
        "    def __init__(self, config):\n",
        "        super(CountFeatureProvider, self).__init__(config)\n",
        "        self.feature_data = np.zeros((self.config.num_products))\n",
        "\n",
        "    def observe(self, observation):\n",
        "        \"\"\"Consider an Organic Event for a particular user\"\"\"\n",
        "        for session in observation.sessions():\n",
        "            self.feature_data[int(session['v'])] += 1\n",
        "\n",
        "    def features(self, observation):\n",
        "        \"\"\"Provide feature values adjusted to a particular feature set\"\"\"\n",
        "        return self.feature_data\n",
        "\n",
        "    def reset(self):\n",
        "        self.feature_data = np.zeros((self.config.num_products))"
      ],
      "execution_count": 4,
      "outputs": []
    },
    {
      "cell_type": "code",
      "metadata": {
        "id": "xleGsd8fmL8H",
        "outputId": "338a1f35-a1da-4d2e-9e74-12db188e79fe",
        "colab": {
          "base_uri": "https://localhost:8080/",
          "height": 419
        }
      },
      "source": [
        "data"
      ],
      "execution_count": 6,
      "outputs": [
        {
          "output_type": "execute_result",
          "data": {
            "text/html": [
              "<div>\n",
              "<style scoped>\n",
              "    .dataframe tbody tr th:only-of-type {\n",
              "        vertical-align: middle;\n",
              "    }\n",
              "\n",
              "    .dataframe tbody tr th {\n",
              "        vertical-align: top;\n",
              "    }\n",
              "\n",
              "    .dataframe thead th {\n",
              "        text-align: right;\n",
              "    }\n",
              "</style>\n",
              "<table border=\"1\" class=\"dataframe\">\n",
              "  <thead>\n",
              "    <tr style=\"text-align: right;\">\n",
              "      <th></th>\n",
              "      <th>t</th>\n",
              "      <th>u</th>\n",
              "      <th>z</th>\n",
              "      <th>v</th>\n",
              "      <th>a</th>\n",
              "      <th>c</th>\n",
              "      <th>ps</th>\n",
              "      <th>ps-a</th>\n",
              "    </tr>\n",
              "  </thead>\n",
              "  <tbody>\n",
              "    <tr>\n",
              "      <th>0</th>\n",
              "      <td>0.0</td>\n",
              "      <td>0</td>\n",
              "      <td>organic</td>\n",
              "      <td>0</td>\n",
              "      <td>&lt;NA&gt;</td>\n",
              "      <td>NaN</td>\n",
              "      <td>NaN</td>\n",
              "      <td>None</td>\n",
              "    </tr>\n",
              "    <tr>\n",
              "      <th>1</th>\n",
              "      <td>1.0</td>\n",
              "      <td>0</td>\n",
              "      <td>bandit</td>\n",
              "      <td>&lt;NA&gt;</td>\n",
              "      <td>3</td>\n",
              "      <td>0.0</td>\n",
              "      <td>0.1</td>\n",
              "      <td>()</td>\n",
              "    </tr>\n",
              "    <tr>\n",
              "      <th>2</th>\n",
              "      <td>2.0</td>\n",
              "      <td>0</td>\n",
              "      <td>bandit</td>\n",
              "      <td>&lt;NA&gt;</td>\n",
              "      <td>4</td>\n",
              "      <td>0.0</td>\n",
              "      <td>0.1</td>\n",
              "      <td>()</td>\n",
              "    </tr>\n",
              "    <tr>\n",
              "      <th>3</th>\n",
              "      <td>3.0</td>\n",
              "      <td>0</td>\n",
              "      <td>bandit</td>\n",
              "      <td>&lt;NA&gt;</td>\n",
              "      <td>5</td>\n",
              "      <td>0.0</td>\n",
              "      <td>0.1</td>\n",
              "      <td>()</td>\n",
              "    </tr>\n",
              "    <tr>\n",
              "      <th>4</th>\n",
              "      <td>4.0</td>\n",
              "      <td>0</td>\n",
              "      <td>bandit</td>\n",
              "      <td>&lt;NA&gt;</td>\n",
              "      <td>0</td>\n",
              "      <td>0.0</td>\n",
              "      <td>0.1</td>\n",
              "      <td>()</td>\n",
              "    </tr>\n",
              "    <tr>\n",
              "      <th>...</th>\n",
              "      <td>...</td>\n",
              "      <td>...</td>\n",
              "      <td>...</td>\n",
              "      <td>...</td>\n",
              "      <td>...</td>\n",
              "      <td>...</td>\n",
              "      <td>...</td>\n",
              "      <td>...</td>\n",
              "    </tr>\n",
              "    <tr>\n",
              "      <th>97444</th>\n",
              "      <td>3.0</td>\n",
              "      <td>999</td>\n",
              "      <td>bandit</td>\n",
              "      <td>&lt;NA&gt;</td>\n",
              "      <td>0</td>\n",
              "      <td>0.0</td>\n",
              "      <td>0.1</td>\n",
              "      <td>()</td>\n",
              "    </tr>\n",
              "    <tr>\n",
              "      <th>97445</th>\n",
              "      <td>4.0</td>\n",
              "      <td>999</td>\n",
              "      <td>bandit</td>\n",
              "      <td>&lt;NA&gt;</td>\n",
              "      <td>0</td>\n",
              "      <td>0.0</td>\n",
              "      <td>0.1</td>\n",
              "      <td>()</td>\n",
              "    </tr>\n",
              "    <tr>\n",
              "      <th>97446</th>\n",
              "      <td>5.0</td>\n",
              "      <td>999</td>\n",
              "      <td>bandit</td>\n",
              "      <td>&lt;NA&gt;</td>\n",
              "      <td>0</td>\n",
              "      <td>0.0</td>\n",
              "      <td>0.1</td>\n",
              "      <td>()</td>\n",
              "    </tr>\n",
              "    <tr>\n",
              "      <th>97447</th>\n",
              "      <td>6.0</td>\n",
              "      <td>999</td>\n",
              "      <td>bandit</td>\n",
              "      <td>&lt;NA&gt;</td>\n",
              "      <td>8</td>\n",
              "      <td>0.0</td>\n",
              "      <td>0.1</td>\n",
              "      <td>()</td>\n",
              "    </tr>\n",
              "    <tr>\n",
              "      <th>97448</th>\n",
              "      <td>7.0</td>\n",
              "      <td>999</td>\n",
              "      <td>bandit</td>\n",
              "      <td>&lt;NA&gt;</td>\n",
              "      <td>6</td>\n",
              "      <td>0.0</td>\n",
              "      <td>0.1</td>\n",
              "      <td>()</td>\n",
              "    </tr>\n",
              "  </tbody>\n",
              "</table>\n",
              "<p>97449 rows × 8 columns</p>\n",
              "</div>"
            ],
            "text/plain": [
              "         t    u        z     v     a    c   ps  ps-a\n",
              "0      0.0    0  organic     0  <NA>  NaN  NaN  None\n",
              "1      1.0    0   bandit  <NA>     3  0.0  0.1    ()\n",
              "2      2.0    0   bandit  <NA>     4  0.0  0.1    ()\n",
              "3      3.0    0   bandit  <NA>     5  0.0  0.1    ()\n",
              "4      4.0    0   bandit  <NA>     0  0.0  0.1    ()\n",
              "...    ...  ...      ...   ...   ...  ...  ...   ...\n",
              "97444  3.0  999   bandit  <NA>     0  0.0  0.1    ()\n",
              "97445  4.0  999   bandit  <NA>     0  0.0  0.1    ()\n",
              "97446  5.0  999   bandit  <NA>     0  0.0  0.1    ()\n",
              "97447  6.0  999   bandit  <NA>     8  0.0  0.1    ()\n",
              "97448  7.0  999   bandit  <NA>     6  0.0  0.1    ()\n",
              "\n",
              "[97449 rows x 8 columns]"
            ]
          },
          "metadata": {
            "tags": []
          },
          "execution_count": 6
        }
      ]
    },
    {
      "cell_type": "code",
      "metadata": {
        "id": "IyVM9ZyxiDIt"
      },
      "source": [
        "import math\n",
        "import numpy as np\n",
        "from recogym import Configuration, DefaultContext, Observation\n",
        "from recogym.envs.session import OrganicSessions\n",
        "\n",
        "\n",
        "def build_train_data(logs, feature_provider):\n",
        "    user_states, actions, rewards, proba_actions = [], [], [], []\n",
        "\n",
        "    current_user = None\n",
        "    for _, row in logs.iterrows():\n",
        "        if current_user != row['u']:\n",
        "            # User has changed: start a new session and reset user state.\n",
        "            current_user = row['u']\n",
        "            sessions = OrganicSessions()\n",
        "            feature_provider.reset()\n",
        "\n",
        "        context = DefaultContext(row['u'], row['t'])\n",
        "\n",
        "        if row['z'] == 'organic':\n",
        "            sessions.next(context, row['v'])\n",
        "\n",
        "        else:\n",
        "            # For each bandit event, generate one observation for the user state, \n",
        "            # the taken action the obtained reward and the used probabilities.\n",
        "            feature_provider.observe(Observation(context, sessions))\n",
        "            user_states.append(feature_provider.features(None).copy())\n",
        "            actions.append(row['a'])\n",
        "            rewards.append(row['c'])\n",
        "            proba_actions.append(row['ps'])\n",
        "\n",
        "            # Start a new organic session.\n",
        "            sessions = OrganicSessions()\n",
        "\n",
        "    return np.array(user_states), np.array(actions).astype(int), np.array(rewards), np.array(proba_actions)"
      ],
      "execution_count": 7,
      "outputs": []
    },
    {
      "cell_type": "code",
      "metadata": {
        "id": "CCuS1xV1iDIt"
      },
      "source": [
        "# You can now see data that will be provided to our agents based on logistic regressions.\n",
        "config = Configuration(env_1_args)\n",
        "count_feature_provider = CountFeatureProvider(config=config)\n",
        "\n",
        "user_states, actions, rewards, proba_actions = build_train_data(data, count_feature_provider)"
      ],
      "execution_count": 8,
      "outputs": []
    },
    {
      "cell_type": "code",
      "metadata": {
        "id": "7OCjUDNBiDIu",
        "colab": {
          "base_uri": "https://localhost:8080/"
        },
        "outputId": "e233ad1e-21be-4532-f237-76284be9feb2"
      },
      "source": [
        "preview_start, preview_size = 500, 3\n",
        "\n",
        "print('User product views count at action time:')\n",
        "print(user_states[preview_start:preview_start + preview_size])\n",
        "print('Taken actions: ', actions[preview_start:preview_start + preview_size])\n",
        "print('Obtained rewards: ', rewards[preview_start:preview_start + preview_size])\n",
        "print('Probablities of the taken actions: ', proba_actions[preview_start:preview_start + preview_size])"
      ],
      "execution_count": 13,
      "outputs": [
        {
          "output_type": "stream",
          "text": [
            "User product views count at action time:\n",
            "[[ 0.  1.  1.  0. 18.  0. 10. 28.  0.  0.]\n",
            " [ 0.  1.  1.  0. 18.  0. 10. 28.  0.  0.]\n",
            " [ 0.  1.  1.  0. 18.  0. 10. 28.  0.  0.]]\n",
            "Taken actions:  [6 1 8]\n",
            "Obtained rewards:  [0. 0. 0.]\n",
            "Probablities of the taken actions:  [0.1 0.1 0.1]\n"
          ],
          "name": "stdout"
        }
      ]
    },
    {
      "cell_type": "markdown",
      "metadata": {
        "id": "E4C8QpAjiDIu"
      },
      "source": [
        "Look at the data and see how it maps into the features - which is the combination of the history and the actions and the label, which is clicks.  Note that only the bandit events correspond to records in the training data.\n",
        "\n",
        "To make a personalization, it is necessary to cross the action and history features. _Why_ ?  We do the simplest possible to cross an element-wise Kronecker product."
      ]
    },
    {
      "cell_type": "code",
      "metadata": {
        "id": "ADq4MTwGiDIu"
      },
      "source": [
        "class LikelihoodAgent(Agent):\n",
        "    def __init__(self, feature_provider, seed=43):\n",
        "        self.feature_provider = feature_provider\n",
        "        self.random_state = RandomState(seed)\n",
        "        self.model = None\n",
        "        \n",
        "    @property\n",
        "    def num_products(self):\n",
        "        return self.feature_provider.config.num_products\n",
        "    \n",
        "    def _create_features(self, user_state, action):\n",
        "        \"\"\"Create the features that are used to estimate the expected reward from the user state\"\"\"\n",
        "        features = np.zeros(len(user_state) * self.num_products)\n",
        "        features[action * len(user_state): (action + 1) * len(user_state)] = user_state\n",
        "        \n",
        "        return features\n",
        "    \n",
        "    def train(self, logs):\n",
        "        user_states, actions, rewards, proba_actions = build_train_data(logs, self.feature_provider)\n",
        "        \n",
        "        # How do you create the features to feed the logistic model ?\n",
        "        features = np.vstack([\n",
        "            self._create_features(user_state, action) \n",
        "            for user_state, action in zip(user_states, actions)\n",
        "        ])\n",
        "        self.model = LogisticRegression(solver='lbfgs', max_iter=5000)\n",
        "        self.model.fit(features, rewards)\n",
        "    \n",
        "    def _score_products(self, user_state):\n",
        "        all_action_features = np.array([\n",
        "            self._create_features(user_state, action) \n",
        "            for action in range(self.num_products)\n",
        "        ])\n",
        "        return self.model.predict_proba(all_action_features)[:, 1]\n",
        "        \n",
        "    def act(self, observation, reward, done):\n",
        "        \"\"\"Act method returns an action based on current observation and past history\"\"\"\n",
        "        self.feature_provider.observe(observation)        \n",
        "        user_state = self.feature_provider.features(observation)\n",
        "        # Question 1.\n",
        "        # Insert code to evaluate the click through rate of every action\n",
        "        prob = self._score_products(user_state)\n",
        "        \n",
        "        action = np.argmax(prob)\n",
        "        # Question 2.\n",
        "        # Why do we set the propsity score to 1.0?\n",
        "        ps = 1.0\n",
        "\n",
        "        # Question 3.\n",
        "        # How would you implement epsilong greedy?\n",
        "        \n",
        "        all_ps = np.zeros(self.num_products)\n",
        "        all_ps[action] = 1.0        \n",
        "        \n",
        "        return {\n",
        "            **super().act(observation, reward, done),\n",
        "            **{\n",
        "                'a': action,\n",
        "                'ps': ps,\n",
        "                'ps-a': all_ps,\n",
        "            }\n",
        "        }\n",
        "\n",
        "    def reset(self):\n",
        "        self.feature_provider.reset()"
      ],
      "execution_count": 34,
      "outputs": []
    },
    {
      "cell_type": "code",
      "metadata": {
        "id": "uoe6FDfuiDIv",
        "colab": {
          "base_uri": "https://localhost:8080/"
        },
        "outputId": "1e30a07d-90e1-4a8c-a415-0e44c258a642"
      },
      "source": [
        "# Have a look at the feature vector used by the Likelihood agent.\n",
        "picked_sample = 500\n",
        "\n",
        "count_product_views_feature_provider = CountFeatureProvider(config)\n",
        "likelihood_logreg = LikelihoodAgent(count_product_views_feature_provider)\n",
        "\n",
        "print('User state: ', user_states[picked_sample])\n",
        "print('Action: ', actions[picked_sample])\n",
        "print('Created cross features:')\n",
        "print(likelihood_logreg._create_features(user_states[picked_sample], actions[picked_sample]))"
      ],
      "execution_count": 35,
      "outputs": [
        {
          "output_type": "stream",
          "text": [
            "User state:  [ 0.  1.  1.  0. 18.  0. 10. 28.  0.  0.]\n",
            "Action:  6\n",
            "Created cross features:\n",
            "[ 0.  0.  0.  0.  0.  0.  0.  0.  0.  0.  0.  0.  0.  0.  0.  0.  0.  0.\n",
            "  0.  0.  0.  0.  0.  0.  0.  0.  0.  0.  0.  0.  0.  0.  0.  0.  0.  0.\n",
            "  0.  0.  0.  0.  0.  0.  0.  0.  0.  0.  0.  0.  0.  0.  0.  0.  0.  0.\n",
            "  0.  0.  0.  0.  0.  0.  0.  1.  1.  0. 18.  0. 10. 28.  0.  0.  0.  0.\n",
            "  0.  0.  0.  0.  0.  0.  0.  0.  0.  0.  0.  0.  0.  0.  0.  0.  0.  0.\n",
            "  0.  0.  0.  0.  0.  0.  0.  0.  0.  0.]\n"
          ],
          "name": "stdout"
        }
      ]
    },
    {
      "cell_type": "code",
      "metadata": {
        "id": "qWalUWt9iDIv"
      },
      "source": [
        "likelihood_logreg = LikelihoodAgent(count_product_views_feature_provider)\n",
        "likelihood_logreg.train(data)"
      ],
      "execution_count": 36,
      "outputs": []
    },
    {
      "cell_type": "code",
      "metadata": {
        "id": "UgR8-FAdiDIw"
      },
      "source": [
        "organic_counter_agent = OrganicUserEventCounterAgent(\n",
        "    Configuration({\n",
        "        **organic_user_count_args,\n",
        "        **env_1_args,\n",
        "        'select_randomly': True,\n",
        "    })\n",
        ")\n",
        "\n",
        "random_agent = RandomAgent(Configuration(random_args))"
      ],
      "execution_count": 37,
      "outputs": []
    },
    {
      "cell_type": "code",
      "metadata": {
        "id": "MF5RnT-tlSdp",
        "colab": {
          "base_uri": "https://localhost:8080/"
        },
        "outputId": "0877a306-41ad-4cee-876d-ad32afcda9d7"
      },
      "source": [
        "likelihood_logreg"
      ],
      "execution_count": 38,
      "outputs": [
        {
          "output_type": "execute_result",
          "data": {
            "text/plain": [
              "<__main__.LikelihoodAgent at 0x7f0104ed8c50>"
            ]
          },
          "metadata": {
            "tags": []
          },
          "execution_count": 38
        }
      ]
    },
    {
      "cell_type": "code",
      "metadata": {
        "id": "pjxefq5HiDIw",
        "colab": {
          "base_uri": "https://localhost:8080/"
        },
        "outputId": "584a1dd8-dc91-4431-c34f-72a47b48a6bc"
      },
      "source": [
        "result = verify_agents(\n",
        "    env,\n",
        "    number_of_users=10,\n",
        "    agents={\n",
        "        'random agent': random_agent,\n",
        "        'Organic Count': organic_counter_agent,\n",
        "        'Likelihood LogReg': likelihood_logreg,\n",
        "    }\n",
        ")\n",
        "\n"
      ],
      "execution_count": 39,
      "outputs": [
        {
          "output_type": "stream",
          "text": [
            "Organic Users: 0it [00:00, ?it/s]\n",
            "Users: 100%|██████████| 10/10 [00:00<00:00, 34.33it/s]\n",
            "Organic Users: 0it [00:00, ?it/s]\n",
            "Users: 100%|██████████| 10/10 [00:00<00:00, 19.85it/s]\n",
            "Organic Users: 0it [00:00, ?it/s]\n",
            "Users: 100%|██████████| 10/10 [00:00<00:00, 23.28it/s]\n"
          ],
          "name": "stderr"
        }
      ]
    },
    {
      "cell_type": "code",
      "metadata": {
        "id": "aUHFFCvbiDIw",
        "colab": {
          "base_uri": "https://localhost:8080/",
          "height": 307
        },
        "outputId": "903c1317-f7f4-4c4f-85b1-ec80e7dfec47"
      },
      "source": [
        "fig = plot_verify_agents(result)\n",
        "plt.show()"
      ],
      "execution_count": 40,
      "outputs": [
        {
          "output_type": "display_data",
          "data": {
            "image/png": "[encoded data removed]",
            "text/plain": [
              "<Figure size 432x216 with 1 Axes>"
            ]
          },
          "metadata": {
            "tags": [],
            "image/png": {
              "width": 385,
              "height": 290
            },
            "needs_background": "light"
          }
        }
      ]
    },
    {
      "cell_type": "code",
      "metadata": {
        "id": "WdwSv1odiDIw"
      },
      "source": [
        ""
      ],
      "execution_count": 40,
      "outputs": []
    }
  ]
}