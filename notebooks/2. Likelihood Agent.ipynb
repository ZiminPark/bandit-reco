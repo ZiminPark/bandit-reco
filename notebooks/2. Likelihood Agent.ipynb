{
 "cells": [
  {
   "cell_type": "code",
   "execution_count": 1,
   "metadata": {},
   "outputs": [
    {
     "name": "stdout",
     "output_type": "stream",
     "text": [
      "Requirement already satisfied: recogym in /Users/d.mykhaylov/dev/src/reco-gym.github (0.1.3.0)\n",
      "Requirement already satisfied: absl-py in /Users/d.mykhaylov/anaconda3/envs/reco-gym/lib/python3.6/site-packages (from recogym) (0.8.0)\n",
      "Requirement already satisfied: pandas in /Users/d.mykhaylov/anaconda3/envs/reco-gym/lib/python3.6/site-packages (from recogym) (0.25.1)\n",
      "Requirement already satisfied: matplotlib in /Users/d.mykhaylov/anaconda3/envs/reco-gym/lib/python3.6/site-packages (from recogym) (3.1.1)\n",
      "Requirement already satisfied: simplegeneric in /Users/d.mykhaylov/anaconda3/envs/reco-gym/lib/python3.6/site-packages (from recogym) (0.8.1)\n",
      "Requirement already satisfied: gym in /Users/d.mykhaylov/anaconda3/envs/reco-gym/lib/python3.6/site-packages (from recogym) (0.14.0)\n",
      "Requirement already satisfied: torch in /Users/d.mykhaylov/anaconda3/envs/reco-gym/lib/python3.6/site-packages (from recogym) (1.2.0)\n",
      "Requirement already satisfied: tensorflow in /Users/d.mykhaylov/anaconda3/envs/reco-gym/lib/python3.6/site-packages (from recogym) (2.0.0)\n",
      "Requirement already satisfied: numba in /Users/d.mykhaylov/anaconda3/envs/reco-gym/lib/python3.6/site-packages (from recogym) (0.45.1)\n",
      "Requirement already satisfied: tqdm in /Users/d.mykhaylov/anaconda3/envs/reco-gym/lib/python3.6/site-packages (from recogym) (4.36.1)\n",
      "Requirement already satisfied: datetime in /Users/d.mykhaylov/anaconda3/envs/reco-gym/lib/python3.6/site-packages (from recogym) (4.3)\n",
      "Requirement already satisfied: jupyter in /Users/d.mykhaylov/anaconda3/envs/reco-gym/lib/python3.6/site-packages (from recogym) (1.0.0)\n",
      "Requirement already satisfied: scipy in /Users/d.mykhaylov/anaconda3/envs/reco-gym/lib/python3.6/site-packages (from recogym) (1.3.1)\n",
      "Requirement already satisfied: numpy in /Users/d.mykhaylov/anaconda3/envs/reco-gym/lib/python3.6/site-packages (from recogym) (1.17.4)\n",
      "Requirement already satisfied: scikit-learn in /Users/d.mykhaylov/anaconda3/envs/reco-gym/lib/python3.6/site-packages (from recogym) (0.21.3)\n",
      "Requirement already satisfied: six in /Users/d.mykhaylov/anaconda3/envs/reco-gym/lib/python3.6/site-packages (from absl-py->recogym) (1.12.0)\n",
      "Requirement already satisfied: pytz>=2017.2 in /Users/d.mykhaylov/anaconda3/envs/reco-gym/lib/python3.6/site-packages (from pandas->recogym) (2019.2)\n",
      "Requirement already satisfied: python-dateutil>=2.6.1 in /Users/d.mykhaylov/anaconda3/envs/reco-gym/lib/python3.6/site-packages (from pandas->recogym) (2.8.0)\n",
      "Requirement already satisfied: pyparsing!=2.0.4,!=2.1.2,!=2.1.6,>=2.0.1 in /Users/d.mykhaylov/anaconda3/envs/reco-gym/lib/python3.6/site-packages (from matplotlib->recogym) (2.4.2)\n",
      "Requirement already satisfied: cycler>=0.10 in /Users/d.mykhaylov/anaconda3/envs/reco-gym/lib/python3.6/site-packages (from matplotlib->recogym) (0.10.0)\n",
      "Requirement already satisfied: kiwisolver>=1.0.1 in /Users/d.mykhaylov/anaconda3/envs/reco-gym/lib/python3.6/site-packages (from matplotlib->recogym) (1.1.0)\n",
      "Requirement already satisfied: cloudpickle~=1.2.0 in /Users/d.mykhaylov/anaconda3/envs/reco-gym/lib/python3.6/site-packages (from gym->recogym) (1.2.2)\n",
      "Requirement already satisfied: pyglet<=1.3.2,>=1.2.0 in /Users/d.mykhaylov/anaconda3/envs/reco-gym/lib/python3.6/site-packages (from gym->recogym) (1.3.2)\n",
      "Requirement already satisfied: keras-preprocessing>=1.0.5 in /Users/d.mykhaylov/anaconda3/envs/reco-gym/lib/python3.6/site-packages (from tensorflow->recogym) (1.1.0)\n",
      "Requirement already satisfied: google-pasta>=0.1.6 in /Users/d.mykhaylov/anaconda3/envs/reco-gym/lib/python3.6/site-packages (from tensorflow->recogym) (0.1.7)\n",
      "Requirement already satisfied: opt-einsum>=2.3.2 in /Users/d.mykhaylov/anaconda3/envs/reco-gym/lib/python3.6/site-packages (from tensorflow->recogym) (3.1.0)\n",
      "Requirement already satisfied: keras-applications>=1.0.8 in /Users/d.mykhaylov/anaconda3/envs/reco-gym/lib/python3.6/site-packages (from tensorflow->recogym) (1.0.8)\n",
      "Requirement already satisfied: gast==0.2.2 in /Users/d.mykhaylov/anaconda3/envs/reco-gym/lib/python3.6/site-packages (from tensorflow->recogym) (0.2.2)\n",
      "Requirement already satisfied: termcolor>=1.1.0 in /Users/d.mykhaylov/anaconda3/envs/reco-gym/lib/python3.6/site-packages (from tensorflow->recogym) (1.1.0)\n",
      "Requirement already satisfied: wheel>=0.26 in /Users/d.mykhaylov/anaconda3/envs/reco-gym/lib/python3.6/site-packages (from tensorflow->recogym) (0.33.6)\n",
      "Requirement already satisfied: tensorboard<2.1.0,>=2.0.0 in /Users/d.mykhaylov/anaconda3/envs/reco-gym/lib/python3.6/site-packages (from tensorflow->recogym) (2.0.0)\n",
      "Requirement already satisfied: astor>=0.6.0 in /Users/d.mykhaylov/anaconda3/envs/reco-gym/lib/python3.6/site-packages (from tensorflow->recogym) (0.8.0)\n",
      "Requirement already satisfied: tensorflow-estimator<2.1.0,>=2.0.0 in /Users/d.mykhaylov/anaconda3/envs/reco-gym/lib/python3.6/site-packages (from tensorflow->recogym) (2.0.0)\n",
      "Requirement already satisfied: wrapt>=1.11.1 in /Users/d.mykhaylov/anaconda3/envs/reco-gym/lib/python3.6/site-packages (from tensorflow->recogym) (1.11.2)\n",
      "Requirement already satisfied: protobuf>=3.6.1 in /Users/d.mykhaylov/anaconda3/envs/reco-gym/lib/python3.6/site-packages (from tensorflow->recogym) (3.9.2)\n",
      "Requirement already satisfied: grpcio>=1.8.6 in /Users/d.mykhaylov/anaconda3/envs/reco-gym/lib/python3.6/site-packages (from tensorflow->recogym) (1.16.1)\n",
      "Requirement already satisfied: llvmlite>=0.29.0dev0 in /Users/d.mykhaylov/anaconda3/envs/reco-gym/lib/python3.6/site-packages (from numba->recogym) (0.29.0)\n",
      "Requirement already satisfied: zope.interface in /Users/d.mykhaylov/anaconda3/envs/reco-gym/lib/python3.6/site-packages (from datetime->recogym) (4.6.0)\n",
      "Requirement already satisfied: ipywidgets in /Users/d.mykhaylov/anaconda3/envs/reco-gym/lib/python3.6/site-packages (from jupyter->recogym) (7.5.1)\n",
      "Requirement already satisfied: ipykernel in /Users/d.mykhaylov/anaconda3/envs/reco-gym/lib/python3.6/site-packages (from jupyter->recogym) (5.1.2)\n",
      "Requirement already satisfied: nbconvert in /Users/d.mykhaylov/anaconda3/envs/reco-gym/lib/python3.6/site-packages (from jupyter->recogym) (5.6.0)\n",
      "Requirement already satisfied: jupyter-console in /Users/d.mykhaylov/anaconda3/envs/reco-gym/lib/python3.6/site-packages (from jupyter->recogym) (6.0.0)\n",
      "Requirement already satisfied: qtconsole in /Users/d.mykhaylov/anaconda3/envs/reco-gym/lib/python3.6/site-packages (from jupyter->recogym) (4.5.5)\n",
      "Requirement already satisfied: notebook in /Users/d.mykhaylov/anaconda3/envs/reco-gym/lib/python3.6/site-packages (from jupyter->recogym) (6.0.1)\n",
      "Requirement already satisfied: joblib>=0.11 in /Users/d.mykhaylov/anaconda3/envs/reco-gym/lib/python3.6/site-packages (from scikit-learn->recogym) (0.14.0)\n",
      "Requirement already satisfied: setuptools in /Users/d.mykhaylov/anaconda3/envs/reco-gym/lib/python3.6/site-packages (from kiwisolver>=1.0.1->matplotlib->recogym) (41.2.0)\n",
      "Requirement already satisfied: future in /Users/d.mykhaylov/anaconda3/envs/reco-gym/lib/python3.6/site-packages (from pyglet<=1.3.2,>=1.2.0->gym->recogym) (0.17.1)\n",
      "Requirement already satisfied: h5py in /Users/d.mykhaylov/anaconda3/envs/reco-gym/lib/python3.6/site-packages (from keras-applications>=1.0.8->tensorflow->recogym) (2.9.0)\n",
      "Requirement already satisfied: markdown>=2.6.8 in /Users/d.mykhaylov/anaconda3/envs/reco-gym/lib/python3.6/site-packages (from tensorboard<2.1.0,>=2.0.0->tensorflow->recogym) (3.1.1)\n",
      "Requirement already satisfied: werkzeug>=0.11.15 in /Users/d.mykhaylov/anaconda3/envs/reco-gym/lib/python3.6/site-packages (from tensorboard<2.1.0,>=2.0.0->tensorflow->recogym) (0.16.0)\n",
      "Requirement already satisfied: nbformat>=4.2.0 in /Users/d.mykhaylov/anaconda3/envs/reco-gym/lib/python3.6/site-packages (from ipywidgets->jupyter->recogym) (4.4.0)\n",
      "Requirement already satisfied: traitlets>=4.3.1 in /Users/d.mykhaylov/anaconda3/envs/reco-gym/lib/python3.6/site-packages (from ipywidgets->jupyter->recogym) (4.3.3)\n",
      "Requirement already satisfied: ipython>=4.0.0; python_version >= \"3.3\" in /Users/d.mykhaylov/anaconda3/envs/reco-gym/lib/python3.6/site-packages (from ipywidgets->jupyter->recogym) (7.8.0)\n",
      "Requirement already satisfied: widgetsnbextension~=3.5.0 in /Users/d.mykhaylov/anaconda3/envs/reco-gym/lib/python3.6/site-packages (from ipywidgets->jupyter->recogym) (3.5.1)\n",
      "Requirement already satisfied: jupyter-client in /Users/d.mykhaylov/anaconda3/envs/reco-gym/lib/python3.6/site-packages (from ipykernel->jupyter->recogym) (5.3.3)\n",
      "Requirement already satisfied: tornado>=4.2 in /Users/d.mykhaylov/anaconda3/envs/reco-gym/lib/python3.6/site-packages (from ipykernel->jupyter->recogym) (6.0.3)\n",
      "Requirement already satisfied: mistune<2,>=0.8.1 in /Users/d.mykhaylov/anaconda3/envs/reco-gym/lib/python3.6/site-packages (from nbconvert->jupyter->recogym) (0.8.4)\n",
      "Requirement already satisfied: entrypoints>=0.2.2 in /Users/d.mykhaylov/anaconda3/envs/reco-gym/lib/python3.6/site-packages (from nbconvert->jupyter->recogym) (0.3)\n",
      "Requirement already satisfied: bleach in /Users/d.mykhaylov/anaconda3/envs/reco-gym/lib/python3.6/site-packages (from nbconvert->jupyter->recogym) (3.1.0)\n",
      "Requirement already satisfied: pandocfilters>=1.4.1 in /Users/d.mykhaylov/anaconda3/envs/reco-gym/lib/python3.6/site-packages (from nbconvert->jupyter->recogym) (1.4.2)\n",
      "Requirement already satisfied: pygments in /Users/d.mykhaylov/anaconda3/envs/reco-gym/lib/python3.6/site-packages (from nbconvert->jupyter->recogym) (2.4.2)\n",
      "Requirement already satisfied: testpath in /Users/d.mykhaylov/anaconda3/envs/reco-gym/lib/python3.6/site-packages (from nbconvert->jupyter->recogym) (0.4.2)\n",
      "Requirement already satisfied: defusedxml in /Users/d.mykhaylov/anaconda3/envs/reco-gym/lib/python3.6/site-packages (from nbconvert->jupyter->recogym) (0.6.0)\n",
      "Requirement already satisfied: jinja2>=2.4 in /Users/d.mykhaylov/anaconda3/envs/reco-gym/lib/python3.6/site-packages (from nbconvert->jupyter->recogym) (2.10.3)\n",
      "Requirement already satisfied: jupyter-core in /Users/d.mykhaylov/anaconda3/envs/reco-gym/lib/python3.6/site-packages (from nbconvert->jupyter->recogym) (4.5.0)\n",
      "Requirement already satisfied: prompt-toolkit<2.1.0,>=2.0.0 in /Users/d.mykhaylov/anaconda3/envs/reco-gym/lib/python3.6/site-packages (from jupyter-console->jupyter->recogym) (2.0.10)\n"
     ]
    },
    {
     "name": "stdout",
     "output_type": "stream",
     "text": [
      "Requirement already satisfied: ipython-genutils in /Users/d.mykhaylov/anaconda3/envs/reco-gym/lib/python3.6/site-packages (from qtconsole->jupyter->recogym) (0.2.0)\n",
      "Requirement already satisfied: Send2Trash in /Users/d.mykhaylov/anaconda3/envs/reco-gym/lib/python3.6/site-packages (from notebook->jupyter->recogym) (1.5.0)\n",
      "Requirement already satisfied: pyzmq>=17 in /Users/d.mykhaylov/anaconda3/envs/reco-gym/lib/python3.6/site-packages (from notebook->jupyter->recogym) (18.1.0)\n",
      "Requirement already satisfied: terminado>=0.8.1 in /Users/d.mykhaylov/anaconda3/envs/reco-gym/lib/python3.6/site-packages (from notebook->jupyter->recogym) (0.8.2)\n",
      "Requirement already satisfied: prometheus-client in /Users/d.mykhaylov/anaconda3/envs/reco-gym/lib/python3.6/site-packages (from notebook->jupyter->recogym) (0.7.1)\n",
      "Requirement already satisfied: jsonschema!=2.5.0,>=2.4 in /Users/d.mykhaylov/anaconda3/envs/reco-gym/lib/python3.6/site-packages (from nbformat>=4.2.0->ipywidgets->jupyter->recogym) (3.0.2)\n",
      "Requirement already satisfied: decorator in /Users/d.mykhaylov/anaconda3/envs/reco-gym/lib/python3.6/site-packages (from traitlets>=4.3.1->ipywidgets->jupyter->recogym) (4.4.0)\n",
      "Requirement already satisfied: pickleshare in /Users/d.mykhaylov/anaconda3/envs/reco-gym/lib/python3.6/site-packages (from ipython>=4.0.0; python_version >= \"3.3\"->ipywidgets->jupyter->recogym) (0.7.5)\n",
      "Requirement already satisfied: appnope; sys_platform == \"darwin\" in /Users/d.mykhaylov/anaconda3/envs/reco-gym/lib/python3.6/site-packages (from ipython>=4.0.0; python_version >= \"3.3\"->ipywidgets->jupyter->recogym) (0.1.0)\n",
      "Requirement already satisfied: jedi>=0.10 in /Users/d.mykhaylov/anaconda3/envs/reco-gym/lib/python3.6/site-packages (from ipython>=4.0.0; python_version >= \"3.3\"->ipywidgets->jupyter->recogym) (0.15.1)\n",
      "Requirement already satisfied: pexpect; sys_platform != \"win32\" in /Users/d.mykhaylov/anaconda3/envs/reco-gym/lib/python3.6/site-packages (from ipython>=4.0.0; python_version >= \"3.3\"->ipywidgets->jupyter->recogym) (4.7.0)\n",
      "Requirement already satisfied: backcall in /Users/d.mykhaylov/anaconda3/envs/reco-gym/lib/python3.6/site-packages (from ipython>=4.0.0; python_version >= \"3.3\"->ipywidgets->jupyter->recogym) (0.1.0)\n",
      "Requirement already satisfied: webencodings in /Users/d.mykhaylov/anaconda3/envs/reco-gym/lib/python3.6/site-packages (from bleach->nbconvert->jupyter->recogym) (0.5.1)\n",
      "Requirement already satisfied: MarkupSafe>=0.23 in /Users/d.mykhaylov/anaconda3/envs/reco-gym/lib/python3.6/site-packages (from jinja2>=2.4->nbconvert->jupyter->recogym) (1.1.1)\n",
      "Requirement already satisfied: wcwidth in /Users/d.mykhaylov/anaconda3/envs/reco-gym/lib/python3.6/site-packages (from prompt-toolkit<2.1.0,>=2.0.0->jupyter-console->jupyter->recogym) (0.1.7)\n",
      "Requirement already satisfied: ptyprocess; os_name != \"nt\" in /Users/d.mykhaylov/anaconda3/envs/reco-gym/lib/python3.6/site-packages (from terminado>=0.8.1->notebook->jupyter->recogym) (0.6.0)\n",
      "Requirement already satisfied: pyrsistent>=0.14.0 in /Users/d.mykhaylov/anaconda3/envs/reco-gym/lib/python3.6/site-packages (from jsonschema!=2.5.0,>=2.4->nbformat>=4.2.0->ipywidgets->jupyter->recogym) (0.15.4)\n",
      "Requirement already satisfied: attrs>=17.4.0 in /Users/d.mykhaylov/anaconda3/envs/reco-gym/lib/python3.6/site-packages (from jsonschema!=2.5.0,>=2.4->nbformat>=4.2.0->ipywidgets->jupyter->recogym) (19.2.0)\n",
      "Requirement already satisfied: parso>=0.5.0 in /Users/d.mykhaylov/anaconda3/envs/reco-gym/lib/python3.6/site-packages (from jedi>=0.10->ipython>=4.0.0; python_version >= \"3.3\"->ipywidgets->jupyter->recogym) (0.5.1)\n"
     ]
    }
   ],
   "source": [
    "!pip install recogym"
   ]
  },
  {
   "cell_type": "markdown",
   "metadata": {},
   "source": [
    "# Likelihood-based models\n",
    "\n",
    "This notebook will outline the likelihood-based approach to training on Bandit feedback.\n",
    "\n",
    "Although before proceeding, we will study the output of the simulator in a little more detail."
   ]
  },
  {
   "cell_type": "code",
   "execution_count": 1,
   "metadata": {},
   "outputs": [],
   "source": [
    "from numpy.random.mtrand import RandomState\n",
    "from recogym import Configuration\n",
    "from recogym.agents import Agent\n",
    "from sklearn.linear_model import LogisticRegression\n",
    "from recogym import verify_agents\n",
    "from recogym.agents import OrganicUserEventCounterAgent, organic_user_count_args\n",
    "from recogym.agents import RandomAgent, random_args\n",
    "from recogym.evaluate_agent import verify_agents, plot_verify_agents\n",
    "\n",
    "import gym, recogym\n",
    "from copy import deepcopy\n",
    "from recogym import env_1_args\n",
    "import matplotlib.pyplot as plt\n",
    "import numpy as np\n",
    "\n",
    "%matplotlib inline\n",
    "\n",
    "%config InlineBackend.figure_format = 'retina'\n",
    "plt.rcParams['figure.figsize'] = [6, 3]\n",
    "\n",
    "num_users = 4000\n",
    "\n",
    "env_1_args['phi_var'] = 0.0\n",
    "env_1_args['number_of_flips'] = 0\n",
    "env_1_args['sigma_mu_organic'] = 0.0\n",
    "env_1_args['sigma_omega'] = 1\n",
    "env_1_args['random_seed'] = 42\n",
    "env_1_args['num_products'] = 10\n",
    "env_1_args['K'] = 5\n",
    "env_1_args['number_of_flips'] = 5\n",
    "\n",
    "env = gym.make('reco-gym-v1')\n",
    "env.init_gym(env_1_args)"
   ]
  },
  {
   "cell_type": "code",
   "execution_count": 2,
   "metadata": {},
   "outputs": [],
   "source": [
    "data = deepcopy(env).generate_logs(num_users)"
   ]
  },
  {
   "cell_type": "markdown",
   "metadata": {},
   "source": [
    "# Logistic Regression Model\n",
    "\n",
    "## Turn Data into Features\n",
    "\n",
    "Now we are going to build a _Logistic Regression_ model.\n",
    "\n",
    "The model will predict _the probability of the click_ for the following data:\n",
    "* _`Views`_ is a total amount of views of a particular _`Product`_ shown during _Organic_ _`Events`_ **before** a _Bandit_ _`Event`_.\n",
    "* _`Action`_ is a proposed _`Product`_ at a _Bandit_ _`Event`_.\n",
    "\n",
    "For example, assume that we have _`10`_ products. In _Organic_ _`Events`_ , these products  were shown to a user as follows:\n",
    "<table>\n",
    "    <tr>\n",
    "        <th>Product ID</th>\n",
    "        <th>Views</th>\n",
    "    </tr>\n",
    "    <tr>\n",
    "        <td>0</td>\n",
    "        <td>0</td>\n",
    "    </tr>\n",
    "    <tr>\n",
    "        <td>1</td>\n",
    "        <td>0</td>\n",
    "    </tr>\n",
    "    <tr>\n",
    "        <td>2</td>\n",
    "        <td>0</td>\n",
    "    </tr>\n",
    "    <tr>\n",
    "        <td>3</td>\n",
    "        <td>7</td>\n",
    "    </tr>\n",
    "    <tr>\n",
    "        <td>4</td>\n",
    "        <td>0</td>\n",
    "    </tr>\n",
    "    <tr>\n",
    "        <td>5</td>\n",
    "        <td>0</td>\n",
    "    </tr>\n",
    "    <tr>\n",
    "        <td>6</td>\n",
    "        <td>0</td>\n",
    "    </tr>\n",
    "    <tr>\n",
    "        <td>7</td>\n",
    "        <td>8</td>\n",
    "    </tr>\n",
    "    <tr>\n",
    "        <td>8</td>\n",
    "        <td>11</td>\n",
    "    </tr>\n",
    "    <tr>\n",
    "        <td>9</td>\n",
    "        <td>0</td>\n",
    "    </tr>\n",
    "</table>\n",
    "\n",
    "When we want to know the probability of the click for _`Product`_ = _`8`_ with available amounts of _`Views`_ , the input data for the model will be:\n",
    "\n",
    "_`0 0 0 7 0 0 0 0 8 11 0`_ _**`8`**_\n",
    "\n",
    "The first `10` numbers are _`Views`_ of _`Products`_ (see above), the latest one is the _`Action`_.\n",
    "\n",
    "The output will be two numbers:\n",
    "* $0^{th}$ index: $1 - \\mathbb{P}_c(P=p|V)$.\n",
    "* $1^{st}$ index: $\\mathbb{P}_c(P=p|V)$.\n",
    "\n",
    "Here, $\\mathbb{P}_c(P=p|V)$ is the probability of the click for a _`Product`_ $p$, provided that we have _`Views`_ $V$.\n",
    "\n",
    "\n",
    "We will, of course, encode _`Action`_ using a one-hot encoding.\n",
    "In our current example, the _`Action`_ is _`8`_. Thus, it is encoded as:\n",
    "\n",
    "_`0 0 0 0 0 0 0 0`_ _**`1`**_ _`0`_\n",
    "\n",
    "Here,\n",
    "* Vector of _`Actions`_ has a size that is equal to the _*number of `Products`*_ i.e., _`10`_.\n",
    "* _`Action`_ _`8`_ is marked as _`1`_ (_`Action`_ starts with _`0`_ ).\n",
    "\n",
    "To build the final feature vector, we need to cross features from _`Views`_ with _`Action`_.  "
   ]
  },
  {
   "cell_type": "code",
   "execution_count": 3,
   "metadata": {},
   "outputs": [],
   "source": [
    "from recogym.agents import FeatureProvider\n",
    "\n",
    "class CountFeatureProvider(FeatureProvider):\n",
    "    \"\"\"Feature provider as an abstract class that defines interface of setting/getting features\"\"\"\n",
    "\n",
    "    def __init__(self, config):\n",
    "        super(CountFeatureProvider, self).__init__(config)\n",
    "        self.feature_data = np.zeros((self.config.num_products))\n",
    "\n",
    "    def observe(self, observation):\n",
    "        \"\"\"Consider an Organic Event for a particular user\"\"\"\n",
    "        for session in observation.sessions():\n",
    "            self.feature_data[int(session['v'])] += 1\n",
    "\n",
    "    def features(self, observation):\n",
    "        \"\"\"Provide feature values adjusted to a particular feature set\"\"\"\n",
    "        return self.feature_data\n",
    "\n",
    "    def reset(self):\n",
    "        self.feature_data = np.zeros((self.config.num_products))"
   ]
  },
  {
   "cell_type": "code",
   "execution_count": 4,
   "metadata": {},
   "outputs": [],
   "source": [
    "import math\n",
    "import numpy as np\n",
    "from recogym import Configuration, DefaultContext, Observation\n",
    "from recogym.envs.session import OrganicSessions\n",
    "\n",
    "\n",
    "def build_train_data(logs, feature_provider):\n",
    "    user_states, actions, rewards, proba_actions = [], [], [], []\n",
    "\n",
    "    current_user = None\n",
    "    for _, row in logs.iterrows():\n",
    "        if current_user != row['u']:\n",
    "            # User has changed: start a new session and reset user state.\n",
    "            current_user = row['u']\n",
    "            sessions = OrganicSessions()\n",
    "            feature_provider.reset()\n",
    "\n",
    "        context = DefaultContext(row['u'], row['t'])\n",
    "\n",
    "        if row['z'] == 'organic':\n",
    "            sessions.next(context, row['v'])\n",
    "\n",
    "        else:\n",
    "            # For each bandit event, generate one observation for the user state, \n",
    "            # the taken action the obtained reward and the used probabilities.\n",
    "            feature_provider.observe(Observation(context, sessions))\n",
    "            user_states.append(feature_provider.features(None))\n",
    "            actions.append(row['a'])\n",
    "            rewards.append(row['c'])\n",
    "            proba_actions.append(row['ps'])\n",
    "\n",
    "            # Start a new organic session.\n",
    "            sessions = OrganicSessions()\n",
    "\n",
    "    return np.array(user_states), np.array(actions).astype(int), np.array(rewards), np.array(proba_actions)"
   ]
  },
  {
   "cell_type": "code",
   "execution_count": 5,
   "metadata": {},
   "outputs": [],
   "source": [
    "# You can now see data that will be provided to our agents based on logistic regressions.\n",
    "config = Configuration(env_1_args)\n",
    "count_feature_provider = CountFeatureProvider(config=config)\n",
    "\n",
    "user_states, actions, rewards, proba_actions = build_train_data(data, count_feature_provider)"
   ]
  },
  {
   "cell_type": "code",
   "execution_count": 6,
   "metadata": {},
   "outputs": [
    {
     "name": "stdout",
     "output_type": "stream",
     "text": [
      "User product views count at action time:\n",
      "[[0. 0. 2. 0. 0. 1. 0. 0. 0. 0.]\n",
      " [0. 0. 2. 0. 0. 1. 0. 0. 0. 0.]\n",
      " [0. 0. 2. 0. 0. 1. 0. 0. 0. 0.]]\n",
      "Taken actions:  [8 6 7]\n",
      "Obtained rewards:  [0. 0. 0.]\n",
      "Probablities of the taken actions:  [0.1 0.1 0.1]\n"
     ]
    }
   ],
   "source": [
    "preview_start, preview_size = 500, 3\n",
    "\n",
    "print('User product views count at action time:')\n",
    "print(user_states[preview_start:preview_start + preview_size])\n",
    "print('Taken actions: ', actions[preview_start:preview_start + preview_size])\n",
    "print('Obtained rewards: ', rewards[preview_start:preview_start + preview_size])\n",
    "print('Probablities of the taken actions: ', proba_actions[preview_start:preview_start + preview_size])"
   ]
  },
  {
   "cell_type": "markdown",
   "metadata": {},
   "source": [
    "Look at the data and see how it maps into the features - which is the combination of the history and the actions and the label, which is clicks.  Note that only the bandit events correspond to records in the training data.\n",
    "\n",
    "To make a personalization, it is necessary to cross the action and history features. _Why_ ?  We do the simplest possible to cross an element-wise Kronecker product."
   ]
  },
  {
   "cell_type": "code",
   "execution_count": 12,
   "metadata": {},
   "outputs": [],
   "source": [
    "class LikelihoodAgent(Agent):\n",
    "    def __init__(self, feature_provider, seed=43):\n",
    "        self.feature_provider = feature_provider\n",
    "        self.random_state = RandomState(seed)\n",
    "        self.model = None\n",
    "        \n",
    "    @property\n",
    "    def num_products(self):\n",
    "        return self.feature_provider.config.num_products\n",
    "    \n",
    "    def _create_features(self, user_state, action):\n",
    "        \"\"\"Create the features that are used to estimate the expected reward from the user state\"\"\"\n",
    "        features = np.zeros(len(user_state) * self.num_products)\n",
    "        features[action * len(user_state): (action + 1) * len(user_state)] = user_state\n",
    "        \n",
    "        return features\n",
    "    \n",
    "    def train(self, logs):\n",
    "        user_states, actions, rewards, proba_actions = build_train_data(logs, self.feature_provider)\n",
    "        \n",
    "        features = np.vstack([\n",
    "            self._create_features(user_state, action) \n",
    "            for user_state, action in zip(user_states, actions)\n",
    "        ])\n",
    "        self.model = LogisticRegression(solver='lbfgs', max_iter=5000)\n",
    "        self.model.fit(features, rewards)\n",
    "    \n",
    "    def _score_products(self, user_state):\n",
    "        all_action_features = np.array([\n",
    "            self._create_features(user_state, action) \n",
    "            for action in range(self.num_products)\n",
    "        ])\n",
    "        return self.model.predict_proba(all_action_features)[:, 1]\n",
    "        \n",
    "    def act(self, observation, reward, done):\n",
    "        \"\"\"Act method returns an action based on current observation and past history\"\"\"\n",
    "        self.feature_provider.observe(observation)        \n",
    "        user_state = self.feature_provider.features(observation)\n",
    "        prob = self._score_products(user_state)\n",
    "        \n",
    "        action = np.argmax(prob)\n",
    "        ps = 1.0\n",
    "        all_ps = np.zeros(self.num_products)\n",
    "        all_ps[action] = 1.0        \n",
    "        \n",
    "        return {\n",
    "            **super().act(observation, reward, done),\n",
    "            **{\n",
    "                'a': action,\n",
    "                'expected-value': prob[action],\n",
    "                'ps': ps,\n",
    "                'ps-a': all_ps,\n",
    "            }\n",
    "        }\n",
    "\n",
    "    def reset(self):\n",
    "        self.feature_provider.reset()  "
   ]
  },
  {
   "cell_type": "code",
   "execution_count": 13,
   "metadata": {},
   "outputs": [
    {
     "name": "stdout",
     "output_type": "stream",
     "text": [
      "User state:  [0. 0. 2. 0. 0. 1. 0. 0. 0. 0.]\n",
      "Action:  8\n",
      "Created cross features:\n",
      "[0. 0. 0. 0. 0. 0. 0. 0. 0. 0. 0. 0. 0. 0. 0. 0. 0. 0. 0. 0. 0. 0. 0. 0.\n",
      " 0. 0. 0. 0. 0. 0. 0. 0. 0. 0. 0. 0. 0. 0. 0. 0. 0. 0. 0. 0. 0. 0. 0. 0.\n",
      " 0. 0. 0. 0. 0. 0. 0. 0. 0. 0. 0. 0. 0. 0. 0. 0. 0. 0. 0. 0. 0. 0. 0. 0.\n",
      " 0. 0. 0. 0. 0. 0. 0. 0. 0. 0. 2. 0. 0. 1. 0. 0. 0. 0. 0. 0. 0. 0. 0. 0.\n",
      " 0. 0. 0. 0.]\n"
     ]
    }
   ],
   "source": [
    "# Have a look at the feature vector used by the Likelihood agent.\n",
    "picked_sample = 500\n",
    "\n",
    "count_product_views_feature_provider = CountFeatureProvider(config)\n",
    "likelihood_logreg = LikelihoodAgent(count_product_views_feature_provider)\n",
    "\n",
    "print('User state: ', user_states[picked_sample])\n",
    "print('Action: ', actions[picked_sample])\n",
    "print('Created cross features:')\n",
    "print(likelihood_logreg._create_features(user_states[picked_sample], actions[picked_sample]))"
   ]
  },
  {
   "cell_type": "code",
   "execution_count": 14,
   "metadata": {},
   "outputs": [
    {
     "name": "stdout",
     "output_type": "stream",
     "text": [
      "CPU times: user 1min 20s, sys: 1.34 s, total: 1min 21s\n",
      "Wall time: 1min 35s\n"
     ]
    }
   ],
   "source": [
    "%%time\n",
    "\n",
    "likelihood_logreg = LikelihoodAgent(count_product_views_feature_provider)\n",
    "likelihood_logreg.train(data)"
   ]
  },
  {
   "cell_type": "code",
   "execution_count": 15,
   "metadata": {},
   "outputs": [],
   "source": [
    "organic_counter_agent = OrganicUserEventCounterAgent(\n",
    "    Configuration({\n",
    "        **organic_user_count_args,\n",
    "        **env_1_args,\n",
    "        'select_randomly': True,\n",
    "    })\n",
    ")\n",
    "\n",
    "random_agent = RandomAgent(Configuration(random_args))"
   ]
  },
  {
   "cell_type": "code",
   "execution_count": 16,
   "metadata": {},
   "outputs": [],
   "source": [
    "result = verify_agents(\n",
    "    env,\n",
    "    number_of_users=2000,\n",
    "    agents={\n",
    "        'Likelihood LogReg': likelihood_logreg,\n",
    "        'Organic Count': organic_counter_agent,\n",
    "        'random agent': random_agent\n",
    "    }\n",
    ")\n",
    "\n"
   ]
  },
  {
   "cell_type": "code",
   "execution_count": 17,
   "metadata": {},
   "outputs": [
    {
     "data": {
      "image/png": "[encoded data removed]",
      "text/plain": [
       "<Figure size 432x288 with 1 Axes>"
      ]
     },
     "metadata": {
      "image/png": {
       "height": 345,
       "width": 385
      }
     },
     "output_type": "display_data"
    }
   ],
   "source": [
    "fig = plot_verify_agents(result)\n",
    "plt.show()"
   ]
  },
  {
   "cell_type": "code",
   "execution_count": null,
   "metadata": {},
   "outputs": [],
   "source": []
  }
 ],
 "metadata": {
  "kernelspec": {
   "display_name": "Python 3",
   "language": "python",
   "name": "python3"
  },
  "language_info": {
   "codemirror_mode": {
    "name": "ipython",
    "version": 3
   },
   "file_extension": ".py",
   "mimetype": "text/x-python",
   "name": "python",
   "nbconvert_exporter": "python",
   "pygments_lexer": "ipython3",
   "version": "3.6.3"
  }
 },
 "nbformat": 4,
 "nbformat_minor": 2
}
